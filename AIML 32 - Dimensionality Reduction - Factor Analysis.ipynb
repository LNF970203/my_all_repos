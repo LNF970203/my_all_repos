{
 "cells": [
  {
   "cell_type": "code",
   "execution_count": 79,
   "metadata": {},
   "outputs": [],
   "source": [
    "# import pip\n",
    "# pip.main([\"install\",\"factor_analyzer\"])"
   ]
  },
  {
   "cell_type": "code",
   "execution_count": 80,
   "metadata": {},
   "outputs": [],
   "source": [
    "import pandas as pd\n",
    "import numpy as np\n",
    "import matplotlib.pyplot as plt\n",
    "from factor_analyzer import FactorAnalyzer #This is for Factor Analysis\n",
    "from factor_analyzer.factor_analyzer import calculate_bartlett_sphericity #For testing the factorability\n",
    "from factor_analyzer.factor_analyzer import calculate_kmo #For testing the factorability"
   ]
  },
  {
   "cell_type": "code",
   "execution_count": 81,
   "metadata": {},
   "outputs": [
    {
     "data": {
      "text/html": [
       "<div>\n",
       "<style scoped>\n",
       "    .dataframe tbody tr th:only-of-type {\n",
       "        vertical-align: middle;\n",
       "    }\n",
       "\n",
       "    .dataframe tbody tr th {\n",
       "        vertical-align: top;\n",
       "    }\n",
       "\n",
       "    .dataframe thead th {\n",
       "        text-align: right;\n",
       "    }\n",
       "</style>\n",
       "<table border=\"1\" class=\"dataframe\">\n",
       "  <thead>\n",
       "    <tr style=\"text-align: right;\">\n",
       "      <th></th>\n",
       "      <th>A1</th>\n",
       "      <th>A2</th>\n",
       "      <th>A3</th>\n",
       "      <th>A4</th>\n",
       "      <th>A5</th>\n",
       "      <th>C1</th>\n",
       "      <th>C2</th>\n",
       "      <th>C3</th>\n",
       "      <th>C4</th>\n",
       "      <th>C5</th>\n",
       "      <th>...</th>\n",
       "      <th>N1</th>\n",
       "      <th>N2</th>\n",
       "      <th>N3</th>\n",
       "      <th>N4</th>\n",
       "      <th>N5</th>\n",
       "      <th>O1</th>\n",
       "      <th>O2</th>\n",
       "      <th>O3</th>\n",
       "      <th>O4</th>\n",
       "      <th>O5</th>\n",
       "    </tr>\n",
       "  </thead>\n",
       "  <tbody>\n",
       "    <tr>\n",
       "      <th>0</th>\n",
       "      <td>2.0</td>\n",
       "      <td>4.0</td>\n",
       "      <td>3.0</td>\n",
       "      <td>4.0</td>\n",
       "      <td>4.0</td>\n",
       "      <td>2.0</td>\n",
       "      <td>3.0</td>\n",
       "      <td>3.0</td>\n",
       "      <td>4.0</td>\n",
       "      <td>4.0</td>\n",
       "      <td>...</td>\n",
       "      <td>3.0</td>\n",
       "      <td>4.0</td>\n",
       "      <td>2.0</td>\n",
       "      <td>2.0</td>\n",
       "      <td>3.0</td>\n",
       "      <td>3.0</td>\n",
       "      <td>6</td>\n",
       "      <td>3.0</td>\n",
       "      <td>4.0</td>\n",
       "      <td>3.0</td>\n",
       "    </tr>\n",
       "    <tr>\n",
       "      <th>1</th>\n",
       "      <td>2.0</td>\n",
       "      <td>4.0</td>\n",
       "      <td>5.0</td>\n",
       "      <td>2.0</td>\n",
       "      <td>5.0</td>\n",
       "      <td>5.0</td>\n",
       "      <td>4.0</td>\n",
       "      <td>4.0</td>\n",
       "      <td>3.0</td>\n",
       "      <td>4.0</td>\n",
       "      <td>...</td>\n",
       "      <td>3.0</td>\n",
       "      <td>3.0</td>\n",
       "      <td>3.0</td>\n",
       "      <td>5.0</td>\n",
       "      <td>5.0</td>\n",
       "      <td>4.0</td>\n",
       "      <td>2</td>\n",
       "      <td>4.0</td>\n",
       "      <td>3.0</td>\n",
       "      <td>3.0</td>\n",
       "    </tr>\n",
       "    <tr>\n",
       "      <th>2</th>\n",
       "      <td>5.0</td>\n",
       "      <td>4.0</td>\n",
       "      <td>5.0</td>\n",
       "      <td>4.0</td>\n",
       "      <td>4.0</td>\n",
       "      <td>4.0</td>\n",
       "      <td>5.0</td>\n",
       "      <td>4.0</td>\n",
       "      <td>2.0</td>\n",
       "      <td>5.0</td>\n",
       "      <td>...</td>\n",
       "      <td>4.0</td>\n",
       "      <td>5.0</td>\n",
       "      <td>4.0</td>\n",
       "      <td>2.0</td>\n",
       "      <td>3.0</td>\n",
       "      <td>4.0</td>\n",
       "      <td>2</td>\n",
       "      <td>5.0</td>\n",
       "      <td>5.0</td>\n",
       "      <td>2.0</td>\n",
       "    </tr>\n",
       "    <tr>\n",
       "      <th>3</th>\n",
       "      <td>4.0</td>\n",
       "      <td>4.0</td>\n",
       "      <td>6.0</td>\n",
       "      <td>5.0</td>\n",
       "      <td>5.0</td>\n",
       "      <td>4.0</td>\n",
       "      <td>4.0</td>\n",
       "      <td>3.0</td>\n",
       "      <td>5.0</td>\n",
       "      <td>5.0</td>\n",
       "      <td>...</td>\n",
       "      <td>2.0</td>\n",
       "      <td>5.0</td>\n",
       "      <td>2.0</td>\n",
       "      <td>4.0</td>\n",
       "      <td>1.0</td>\n",
       "      <td>3.0</td>\n",
       "      <td>3</td>\n",
       "      <td>4.0</td>\n",
       "      <td>3.0</td>\n",
       "      <td>5.0</td>\n",
       "    </tr>\n",
       "    <tr>\n",
       "      <th>4</th>\n",
       "      <td>2.0</td>\n",
       "      <td>3.0</td>\n",
       "      <td>3.0</td>\n",
       "      <td>4.0</td>\n",
       "      <td>5.0</td>\n",
       "      <td>4.0</td>\n",
       "      <td>4.0</td>\n",
       "      <td>5.0</td>\n",
       "      <td>3.0</td>\n",
       "      <td>2.0</td>\n",
       "      <td>...</td>\n",
       "      <td>2.0</td>\n",
       "      <td>3.0</td>\n",
       "      <td>4.0</td>\n",
       "      <td>4.0</td>\n",
       "      <td>3.0</td>\n",
       "      <td>3.0</td>\n",
       "      <td>3</td>\n",
       "      <td>4.0</td>\n",
       "      <td>3.0</td>\n",
       "      <td>3.0</td>\n",
       "    </tr>\n",
       "  </tbody>\n",
       "</table>\n",
       "<p>5 rows × 25 columns</p>\n",
       "</div>"
      ],
      "text/plain": [
       "    A1   A2   A3   A4   A5   C1   C2   C3   C4   C5  ...   N1   N2   N3   N4  \\\n",
       "0  2.0  4.0  3.0  4.0  4.0  2.0  3.0  3.0  4.0  4.0  ...  3.0  4.0  2.0  2.0   \n",
       "1  2.0  4.0  5.0  2.0  5.0  5.0  4.0  4.0  3.0  4.0  ...  3.0  3.0  3.0  5.0   \n",
       "2  5.0  4.0  5.0  4.0  4.0  4.0  5.0  4.0  2.0  5.0  ...  4.0  5.0  4.0  2.0   \n",
       "3  4.0  4.0  6.0  5.0  5.0  4.0  4.0  3.0  5.0  5.0  ...  2.0  5.0  2.0  4.0   \n",
       "4  2.0  3.0  3.0  4.0  5.0  4.0  4.0  5.0  3.0  2.0  ...  2.0  3.0  4.0  4.0   \n",
       "\n",
       "    N5   O1  O2   O3   O4   O5  \n",
       "0  3.0  3.0   6  3.0  4.0  3.0  \n",
       "1  5.0  4.0   2  4.0  3.0  3.0  \n",
       "2  3.0  4.0   2  5.0  5.0  2.0  \n",
       "3  1.0  3.0   3  4.0  3.0  5.0  \n",
       "4  3.0  3.0   3  4.0  3.0  3.0  \n",
       "\n",
       "[5 rows x 25 columns]"
      ]
     },
     "execution_count": 81,
     "metadata": {},
     "output_type": "execute_result"
    }
   ],
   "source": [
    "data=pd.read_csv(\"D:\\\\Workshops\\\\Python for Data Science Comprehensive Workshop\\\\Part 04 - Machine Learning\\\\Datasets\\\\bfi.CSV\")\n",
    "data.head()"
   ]
  },
  {
   "cell_type": "code",
   "execution_count": 82,
   "metadata": {},
   "outputs": [
    {
     "data": {
      "text/plain": [
       "Index(['A1', 'A2', 'A3', 'A4', 'A5', 'C1', 'C2', 'C3', 'C4', 'C5', 'E1', 'E2',\n",
       "       'E3', 'E4', 'E5', 'N1', 'N2', 'N3', 'N4', 'N5', 'O1', 'O2', 'O3', 'O4',\n",
       "       'O5'],\n",
       "      dtype='object')"
      ]
     },
     "execution_count": 82,
     "metadata": {},
     "output_type": "execute_result"
    }
   ],
   "source": [
    "data.columns"
   ]
  },
  {
   "cell_type": "code",
   "execution_count": 83,
   "metadata": {},
   "outputs": [
    {
     "data": {
      "text/plain": [
       "(2800, 25)"
      ]
     },
     "execution_count": 83,
     "metadata": {},
     "output_type": "execute_result"
    }
   ],
   "source": [
    "data.shape"
   ]
  },
  {
   "cell_type": "code",
   "execution_count": 84,
   "metadata": {},
   "outputs": [
    {
     "data": {
      "text/plain": [
       "A1    16\n",
       "A2    27\n",
       "A3    26\n",
       "A4    19\n",
       "A5    16\n",
       "C1    21\n",
       "C2    24\n",
       "C3    20\n",
       "C4    26\n",
       "C5    16\n",
       "E1    23\n",
       "E2    16\n",
       "E3    25\n",
       "E4     9\n",
       "E5    21\n",
       "N1    22\n",
       "N2    21\n",
       "N3    11\n",
       "N4    36\n",
       "N5    29\n",
       "O1    22\n",
       "O2     0\n",
       "O3    28\n",
       "O4    14\n",
       "O5    20\n",
       "dtype: int64"
      ]
     },
     "execution_count": 84,
     "metadata": {},
     "output_type": "execute_result"
    }
   ],
   "source": [
    "data.isnull().sum()"
   ]
  },
  {
   "cell_type": "code",
   "execution_count": 85,
   "metadata": {},
   "outputs": [],
   "source": [
    "data.dropna(inplace=True) #Remove missing value rows"
   ]
  },
  {
   "cell_type": "code",
   "execution_count": 86,
   "metadata": {},
   "outputs": [
    {
     "data": {
      "text/html": [
       "<div>\n",
       "<style scoped>\n",
       "    .dataframe tbody tr th:only-of-type {\n",
       "        vertical-align: middle;\n",
       "    }\n",
       "\n",
       "    .dataframe tbody tr th {\n",
       "        vertical-align: top;\n",
       "    }\n",
       "\n",
       "    .dataframe thead th {\n",
       "        text-align: right;\n",
       "    }\n",
       "</style>\n",
       "<table border=\"1\" class=\"dataframe\">\n",
       "  <thead>\n",
       "    <tr style=\"text-align: right;\">\n",
       "      <th></th>\n",
       "      <th>A1</th>\n",
       "      <th>A2</th>\n",
       "      <th>A3</th>\n",
       "      <th>A4</th>\n",
       "      <th>A5</th>\n",
       "      <th>C1</th>\n",
       "      <th>C2</th>\n",
       "      <th>C3</th>\n",
       "      <th>C4</th>\n",
       "      <th>C5</th>\n",
       "      <th>...</th>\n",
       "      <th>N1</th>\n",
       "      <th>N2</th>\n",
       "      <th>N3</th>\n",
       "      <th>N4</th>\n",
       "      <th>N5</th>\n",
       "      <th>O1</th>\n",
       "      <th>O2</th>\n",
       "      <th>O3</th>\n",
       "      <th>O4</th>\n",
       "      <th>O5</th>\n",
       "    </tr>\n",
       "  </thead>\n",
       "  <tbody>\n",
       "    <tr>\n",
       "      <th>0</th>\n",
       "      <td>2.0</td>\n",
       "      <td>4.0</td>\n",
       "      <td>3.0</td>\n",
       "      <td>4.0</td>\n",
       "      <td>4.0</td>\n",
       "      <td>2.0</td>\n",
       "      <td>3.0</td>\n",
       "      <td>3.0</td>\n",
       "      <td>4.0</td>\n",
       "      <td>4.0</td>\n",
       "      <td>...</td>\n",
       "      <td>3.0</td>\n",
       "      <td>4.0</td>\n",
       "      <td>2.0</td>\n",
       "      <td>2.0</td>\n",
       "      <td>3.0</td>\n",
       "      <td>3.0</td>\n",
       "      <td>6</td>\n",
       "      <td>3.0</td>\n",
       "      <td>4.0</td>\n",
       "      <td>3.0</td>\n",
       "    </tr>\n",
       "    <tr>\n",
       "      <th>1</th>\n",
       "      <td>2.0</td>\n",
       "      <td>4.0</td>\n",
       "      <td>5.0</td>\n",
       "      <td>2.0</td>\n",
       "      <td>5.0</td>\n",
       "      <td>5.0</td>\n",
       "      <td>4.0</td>\n",
       "      <td>4.0</td>\n",
       "      <td>3.0</td>\n",
       "      <td>4.0</td>\n",
       "      <td>...</td>\n",
       "      <td>3.0</td>\n",
       "      <td>3.0</td>\n",
       "      <td>3.0</td>\n",
       "      <td>5.0</td>\n",
       "      <td>5.0</td>\n",
       "      <td>4.0</td>\n",
       "      <td>2</td>\n",
       "      <td>4.0</td>\n",
       "      <td>3.0</td>\n",
       "      <td>3.0</td>\n",
       "    </tr>\n",
       "    <tr>\n",
       "      <th>2</th>\n",
       "      <td>5.0</td>\n",
       "      <td>4.0</td>\n",
       "      <td>5.0</td>\n",
       "      <td>4.0</td>\n",
       "      <td>4.0</td>\n",
       "      <td>4.0</td>\n",
       "      <td>5.0</td>\n",
       "      <td>4.0</td>\n",
       "      <td>2.0</td>\n",
       "      <td>5.0</td>\n",
       "      <td>...</td>\n",
       "      <td>4.0</td>\n",
       "      <td>5.0</td>\n",
       "      <td>4.0</td>\n",
       "      <td>2.0</td>\n",
       "      <td>3.0</td>\n",
       "      <td>4.0</td>\n",
       "      <td>2</td>\n",
       "      <td>5.0</td>\n",
       "      <td>5.0</td>\n",
       "      <td>2.0</td>\n",
       "    </tr>\n",
       "    <tr>\n",
       "      <th>3</th>\n",
       "      <td>4.0</td>\n",
       "      <td>4.0</td>\n",
       "      <td>6.0</td>\n",
       "      <td>5.0</td>\n",
       "      <td>5.0</td>\n",
       "      <td>4.0</td>\n",
       "      <td>4.0</td>\n",
       "      <td>3.0</td>\n",
       "      <td>5.0</td>\n",
       "      <td>5.0</td>\n",
       "      <td>...</td>\n",
       "      <td>2.0</td>\n",
       "      <td>5.0</td>\n",
       "      <td>2.0</td>\n",
       "      <td>4.0</td>\n",
       "      <td>1.0</td>\n",
       "      <td>3.0</td>\n",
       "      <td>3</td>\n",
       "      <td>4.0</td>\n",
       "      <td>3.0</td>\n",
       "      <td>5.0</td>\n",
       "    </tr>\n",
       "    <tr>\n",
       "      <th>4</th>\n",
       "      <td>2.0</td>\n",
       "      <td>3.0</td>\n",
       "      <td>3.0</td>\n",
       "      <td>4.0</td>\n",
       "      <td>5.0</td>\n",
       "      <td>4.0</td>\n",
       "      <td>4.0</td>\n",
       "      <td>5.0</td>\n",
       "      <td>3.0</td>\n",
       "      <td>2.0</td>\n",
       "      <td>...</td>\n",
       "      <td>2.0</td>\n",
       "      <td>3.0</td>\n",
       "      <td>4.0</td>\n",
       "      <td>4.0</td>\n",
       "      <td>3.0</td>\n",
       "      <td>3.0</td>\n",
       "      <td>3</td>\n",
       "      <td>4.0</td>\n",
       "      <td>3.0</td>\n",
       "      <td>3.0</td>\n",
       "    </tr>\n",
       "  </tbody>\n",
       "</table>\n",
       "<p>5 rows × 25 columns</p>\n",
       "</div>"
      ],
      "text/plain": [
       "    A1   A2   A3   A4   A5   C1   C2   C3   C4   C5  ...   N1   N2   N3   N4  \\\n",
       "0  2.0  4.0  3.0  4.0  4.0  2.0  3.0  3.0  4.0  4.0  ...  3.0  4.0  2.0  2.0   \n",
       "1  2.0  4.0  5.0  2.0  5.0  5.0  4.0  4.0  3.0  4.0  ...  3.0  3.0  3.0  5.0   \n",
       "2  5.0  4.0  5.0  4.0  4.0  4.0  5.0  4.0  2.0  5.0  ...  4.0  5.0  4.0  2.0   \n",
       "3  4.0  4.0  6.0  5.0  5.0  4.0  4.0  3.0  5.0  5.0  ...  2.0  5.0  2.0  4.0   \n",
       "4  2.0  3.0  3.0  4.0  5.0  4.0  4.0  5.0  3.0  2.0  ...  2.0  3.0  4.0  4.0   \n",
       "\n",
       "    N5   O1  O2   O3   O4   O5  \n",
       "0  3.0  3.0   6  3.0  4.0  3.0  \n",
       "1  5.0  4.0   2  4.0  3.0  3.0  \n",
       "2  3.0  4.0   2  5.0  5.0  2.0  \n",
       "3  1.0  3.0   3  4.0  3.0  5.0  \n",
       "4  3.0  3.0   3  4.0  3.0  3.0  \n",
       "\n",
       "[5 rows x 25 columns]"
      ]
     },
     "execution_count": 86,
     "metadata": {},
     "output_type": "execute_result"
    }
   ],
   "source": [
    "data.head()"
   ]
  },
  {
   "cell_type": "markdown",
   "metadata": {},
   "source": [
    "# Testing the factorability"
   ]
  },
  {
   "cell_type": "markdown",
   "metadata": {},
   "source": [
    "# Bartlett’s Test"
   ]
  },
  {
   "cell_type": "code",
   "execution_count": 87,
   "metadata": {},
   "outputs": [
    {
     "data": {
      "text/plain": [
       "(18170.966350869257, 0.0)"
      ]
     },
     "execution_count": 87,
     "metadata": {},
     "output_type": "execute_result"
    }
   ],
   "source": [
    "chi_square_value,p_value=calculate_bartlett_sphericity(data)\n",
    "chi_square_value, p_value    #P-Value is less than 0.05"
   ]
  },
  {
   "cell_type": "markdown",
   "metadata": {},
   "source": [
    "# Kaiser-Meyer-Olkin (KMO) Test"
   ]
  },
  {
   "cell_type": "code",
   "execution_count": 88,
   "metadata": {},
   "outputs": [
    {
     "data": {
      "text/plain": [
       "0.8485397221949222"
      ]
     },
     "execution_count": 88,
     "metadata": {},
     "output_type": "execute_result"
    }
   ],
   "source": [
    "kmo_all,kmo_model=calculate_kmo(data)\n",
    "kmo_model   #Above 0.6 means better"
   ]
  },
  {
   "cell_type": "markdown",
   "metadata": {},
   "source": [
    "# Creating the factor analyzer object"
   ]
  },
  {
   "cell_type": "code",
   "execution_count": 89,
   "metadata": {},
   "outputs": [],
   "source": [
    "fa = FactorAnalyzer(n_factors=25,rotation=None)"
   ]
  },
  {
   "cell_type": "markdown",
   "metadata": {},
   "source": [
    "# Selecting all the factors without rotations"
   ]
  },
  {
   "cell_type": "code",
   "execution_count": 90,
   "metadata": {},
   "outputs": [
    {
     "data": {
      "text/plain": [
       "FactorAnalyzer(n_factors=25, rotation=None, rotation_kwargs={})"
      ]
     },
     "execution_count": 90,
     "metadata": {},
     "output_type": "execute_result"
    }
   ],
   "source": [
    "fa.fit(data)"
   ]
  },
  {
   "cell_type": "markdown",
   "metadata": {},
   "source": [
    "# Eigen values and normalized eigen vectors"
   ]
  },
  {
   "cell_type": "code",
   "execution_count": 91,
   "metadata": {},
   "outputs": [],
   "source": [
    "ev, v = fa.get_eigenvalues()"
   ]
  },
  {
   "cell_type": "code",
   "execution_count": 92,
   "metadata": {},
   "outputs": [
    {
     "data": {
      "text/plain": [
       "array([5.13431118, 2.75188667, 2.14270195, 1.85232761, 1.54816285,\n",
       "       1.07358247, 0.83953893, 0.79920618, 0.71898919, 0.68808879,\n",
       "       0.67637336, 0.65179984, 0.62325295, 0.59656284, 0.56309083,\n",
       "       0.54330533, 0.51451752, 0.49450315, 0.48263952, 0.448921  ,\n",
       "       0.42336611, 0.40067145, 0.38780448, 0.38185679, 0.26253902])"
      ]
     },
     "execution_count": 92,
     "metadata": {},
     "output_type": "execute_result"
    }
   ],
   "source": [
    "ev"
   ]
  },
  {
   "cell_type": "markdown",
   "metadata": {},
   "source": [
    "# Scree plot"
   ]
  },
  {
   "cell_type": "code",
   "execution_count": 93,
   "metadata": {},
   "outputs": [
    {
     "data": {
      "image/png": "[encoded data removed]",
      "text/plain": [
       "<Figure size 432x288 with 1 Axes>"
      ]
     },
     "metadata": {
      "needs_background": "light"
     },
     "output_type": "display_data"
    }
   ],
   "source": [
    "plt.plot(range(1,data.shape[1]+1),ev)\n",
    "plt.scatter(range(1,data.shape[1]+1),ev)\n",
    "plt.show()"
   ]
  },
  {
   "cell_type": "markdown",
   "metadata": {},
   "source": [
    "# Selecting suitable number of factors and refit"
   ]
  },
  {
   "cell_type": "code",
   "execution_count": 94,
   "metadata": {},
   "outputs": [
    {
     "data": {
      "text/plain": [
       "FactorAnalyzer(n_factors=6, rotation=None, rotation_kwargs={})"
      ]
     },
     "execution_count": 94,
     "metadata": {},
     "output_type": "execute_result"
    }
   ],
   "source": [
    "fa = FactorAnalyzer(n_factors=6,rotation=None)\n",
    "fa.fit(data)"
   ]
  },
  {
   "cell_type": "markdown",
   "metadata": {},
   "source": [
    "# Factor loadings"
   ]
  },
  {
   "cell_type": "code",
   "execution_count": 96,
   "metadata": {},
   "outputs": [
    {
     "data": {
      "text/plain": [
       "array([[-0.2299591 , -0.0199644 ,  0.13664662,  0.00040695, -0.42097323,\n",
       "         0.29095465],\n",
       "       [ 0.47112236,  0.29000259, -0.18170633,  0.13569486,  0.35813008,\n",
       "        -0.17296976],\n",
       "       [ 0.5311117 ,  0.29897211, -0.2473526 ,  0.11164313,  0.28511745,\n",
       "         0.00377123],\n",
       "       [ 0.41593357,  0.11326978, -0.11828589,  0.266842  ,  0.15956224,\n",
       "         0.02423477],\n",
       "       [ 0.58069342,  0.1803745 , -0.26148603,  0.04682619,  0.16599243,\n",
       "         0.12301928],\n",
       "       [ 0.34352424,  0.13222201,  0.44436455,  0.11178854, -0.0172165 ,\n",
       "         0.11418533],\n",
       "       [ 0.33863513,  0.19670947,  0.48597759,  0.27436414,  0.02325613,\n",
       "         0.1733831 ],\n",
       "       [ 0.31809501,  0.05288982,  0.34606731,  0.30142196,  0.02690368,\n",
       "         0.03926164],\n",
       "       [-0.47669319,  0.11094474, -0.48106894, -0.22335436,  0.02305138,\n",
       "         0.2645765 ],\n",
       "       [-0.49131858,  0.15020093, -0.28415013, -0.2691626 ,  0.10682991,\n",
       "         0.05953788],\n",
       "       [-0.41148912, -0.18456327,  0.27002946,  0.10293416,  0.26451104,\n",
       "         0.20464898],\n",
       "       [-0.61914811, -0.04523936,  0.23103381,  0.05201056,  0.32121711,\n",
       "         0.12386892],\n",
       "       [ 0.5305427 ,  0.33247296, -0.12307382, -0.18388657, -0.10006861,\n",
       "         0.17746651],\n",
       "       [ 0.59987281,  0.17443069, -0.32910125,  0.1019131 , -0.19353405,\n",
       "         0.11670852],\n",
       "       [ 0.51061831,  0.28591671,  0.08970365, -0.03454209, -0.22172287,\n",
       "        -0.02237602],\n",
       "       [-0.44249424,  0.64025426,  0.03468275,  0.1031005 , -0.25736759,\n",
       "        -0.13505711],\n",
       "       [-0.42694152,  0.62911808,  0.09006412,  0.05661405, -0.19853439,\n",
       "        -0.19099483],\n",
       "       [-0.40509527,  0.60619513,  0.03676309,  0.06714148, -0.01075281,\n",
       "        -0.01951303],\n",
       "       [-0.52600752,  0.41312904,  0.07742561, -0.0410174 ,  0.21660862,\n",
       "         0.06001675],\n",
       "       [-0.34399099,  0.41051301, -0.02494038,  0.20868454,  0.12296555,\n",
       "         0.05486874],\n",
       "       [ 0.3289804 ,  0.20627233,  0.1938788 , -0.36599882, -0.00023617,\n",
       "         0.1560448 ],\n",
       "       [-0.19833387,  0.06437923, -0.2943301 ,  0.37844563, -0.03799075,\n",
       "         0.15417013],\n",
       "       [ 0.40750406,  0.29586758,  0.14346498, -0.44660979,  0.00896482,\n",
       "         0.11082438],\n",
       "       [-0.06376938,  0.25590887,  0.17428373, -0.23300164,  0.29434838,\n",
       "         0.0725345 ],\n",
       "       [-0.20564456, -0.05661367, -0.27042947,  0.43178685, -0.11797717,\n",
       "         0.20458221]])"
      ]
     },
     "execution_count": 96,
     "metadata": {},
     "output_type": "execute_result"
    }
   ],
   "source": [
    "fa.loadings_"
   ]
  },
  {
   "cell_type": "code",
   "execution_count": null,
   "metadata": {},
   "outputs": [],
   "source": []
  },
  {
   "cell_type": "markdown",
   "metadata": {},
   "source": [
    "# SS Loadings, Proportion Var and Cumulative Var of factors"
   ]
  },
  {
   "cell_type": "code",
   "execution_count": 97,
   "metadata": {},
   "outputs": [
    {
     "data": {
      "text/plain": [
       "(array([4.6215181 , 2.28722515, 1.58418967, 1.24487296, 0.99295567,\n",
       "        0.5205644 ]),\n",
       " array([0.18486072, 0.09148901, 0.06336759, 0.04979492, 0.03971823,\n",
       "        0.02082258]),\n",
       " array([0.18486072, 0.27634973, 0.33971732, 0.38951224, 0.42923046,\n",
       "        0.45005304]))"
      ]
     },
     "execution_count": 97,
     "metadata": {},
     "output_type": "execute_result"
    }
   ],
   "source": [
    "fa.get_factor_variance()"
   ]
  },
  {
   "cell_type": "markdown",
   "metadata": {},
   "source": [
    "# Communalities"
   ]
  },
  {
   "cell_type": "code",
   "execution_count": 98,
   "metadata": {},
   "outputs": [
    {
     "data": {
      "text/plain": [
       "array([0.3338253 , 0.51566376, 0.52641764, 0.29707441, 0.48299468,\n",
       "       0.35878279, 0.49542081, 0.31686483, 0.59139172, 0.43210146,\n",
       "       0.39874554, 0.55999664, 0.48248334, 0.56004368, 0.40138104,\n",
       "       0.70203777, 0.66528024, 0.5379306 , 0.50555798, 0.3491531 ,\n",
       "       0.34667054, 0.29854404, 0.4860021 , 0.24612269, 0.36083927])"
      ]
     },
     "execution_count": 98,
     "metadata": {},
     "output_type": "execute_result"
    }
   ],
   "source": [
    "fa.get_communalities()"
   ]
  },
  {
   "cell_type": "markdown",
   "metadata": {},
   "source": [
    "# With factor rotation"
   ]
  },
  {
   "cell_type": "code",
   "execution_count": 99,
   "metadata": {},
   "outputs": [
    {
     "data": {
      "text/plain": [
       "FactorAnalyzer(n_factors=6, rotation='varimax', rotation_kwargs={})"
      ]
     },
     "execution_count": 99,
     "metadata": {},
     "output_type": "execute_result"
    }
   ],
   "source": [
    "fa = FactorAnalyzer(n_factors=6,rotation=\"varimax\")\n",
    "fa.fit(data)"
   ]
  },
  {
   "cell_type": "code",
   "execution_count": 101,
   "metadata": {},
   "outputs": [],
   "source": [
    "np.set_printoptions(suppress=True) #This will remove the scientific notation"
   ]
  },
  {
   "cell_type": "code",
   "execution_count": 102,
   "metadata": {},
   "outputs": [
    {
     "data": {
      "text/plain": [
       "array([[ 0.09521974,  0.04078316,  0.04873389, -0.53098735, -0.11305733,\n",
       "         0.16121635],\n",
       "       [ 0.03313128,  0.23553804,  0.13371439,  0.66114098,  0.06373379,\n",
       "        -0.00624354],\n",
       "       [-0.00962088,  0.34300817,  0.12135337,  0.60593269,  0.03399026,\n",
       "         0.16010643],\n",
       "       [-0.08151756,  0.21971672,  0.23513953,  0.40459404, -0.12533802,\n",
       "         0.0863557 ],\n",
       "       [-0.14961589,  0.41445768,  0.10638217,  0.46969829,  0.03097657,\n",
       "         0.23651934],\n",
       "       [-0.0043584 ,  0.07724775,  0.55458226,  0.0075107 ,  0.19012373,\n",
       "         0.09503505],\n",
       "       [ 0.06833008,  0.03837038,  0.67454545,  0.05705499,  0.08759259,\n",
       "         0.15277508],\n",
       "       [-0.03999367,  0.0318673 ,  0.55116444,  0.10128224, -0.01133809,\n",
       "         0.00899628],\n",
       "       [ 0.21628337, -0.06624077, -0.63847549, -0.10261694, -0.14384648,\n",
       "         0.3183589 ],\n",
       "       [ 0.28418724, -0.1808117 , -0.54483768, -0.05995482,  0.02583709,\n",
       "         0.13242345],\n",
       "       [ 0.02227979, -0.59045089,  0.05391491, -0.13085053, -0.07120458,\n",
       "         0.15658266],\n",
       "       [ 0.23362357, -0.68457763, -0.08849707, -0.11671566, -0.04556104,\n",
       "         0.1150654 ],\n",
       "       [-0.00089501,  0.55677418,  0.10339035,  0.17939648,  0.2411799 ,\n",
       "         0.26729132],\n",
       "       [-0.13678808,  0.65839491,  0.113798  ,  0.24114296, -0.1078082 ,\n",
       "         0.15851285],\n",
       "       [ 0.03448959,  0.50753508,  0.30981253,  0.07880429,  0.20082135,\n",
       "         0.0087473 ],\n",
       "       [ 0.80580594,  0.0680113 , -0.05126379, -0.17484936, -0.07497712,\n",
       "        -0.09626617],\n",
       "       [ 0.78983169,  0.02295829, -0.03747687, -0.14113448,  0.00672646,\n",
       "        -0.13982261],\n",
       "       [ 0.72508122, -0.06568693, -0.05903944, -0.01918382, -0.01066355,\n",
       "         0.06249534],\n",
       "       [ 0.57831885, -0.34507232, -0.16217386,  0.00040313,  0.06291648,\n",
       "         0.14755124],\n",
       "       [ 0.52309707, -0.16167512, -0.02530498,  0.09012479, -0.16189198,\n",
       "         0.12004948],\n",
       "       [-0.02000402,  0.22533856,  0.1332008 ,  0.00517794,  0.47947722,\n",
       "         0.21868984],\n",
       "       [ 0.15623011, -0.00198152, -0.08604685,  0.04398911, -0.49663967,\n",
       "         0.13469297],\n",
       "       [ 0.01185102,  0.32595448,  0.09387961,  0.07664165,  0.56612805,\n",
       "         0.21077722],\n",
       "       [ 0.20728057, -0.17774571, -0.00567147,  0.13365557,  0.34922714,\n",
       "         0.17806837],\n",
       "       [ 0.06323437, -0.01422106, -0.04705923, -0.05756078, -0.57674264,\n",
       "         0.13593587]])"
      ]
     },
     "execution_count": 102,
     "metadata": {},
     "output_type": "execute_result"
    }
   ],
   "source": [
    "fa.loadings_"
   ]
  },
  {
   "cell_type": "code",
   "execution_count": 103,
   "metadata": {},
   "outputs": [
    {
     "data": {
      "text/html": [
       "<div>\n",
       "<style scoped>\n",
       "    .dataframe tbody tr th:only-of-type {\n",
       "        vertical-align: middle;\n",
       "    }\n",
       "\n",
       "    .dataframe tbody tr th {\n",
       "        vertical-align: top;\n",
       "    }\n",
       "\n",
       "    .dataframe thead th {\n",
       "        text-align: right;\n",
       "    }\n",
       "</style>\n",
       "<table border=\"1\" class=\"dataframe\">\n",
       "  <thead>\n",
       "    <tr style=\"text-align: right;\">\n",
       "      <th></th>\n",
       "      <th>1</th>\n",
       "      <th>2</th>\n",
       "      <th>3</th>\n",
       "      <th>4</th>\n",
       "      <th>5</th>\n",
       "      <th>6</th>\n",
       "    </tr>\n",
       "  </thead>\n",
       "  <tbody>\n",
       "    <tr>\n",
       "      <th>A1</th>\n",
       "      <td>0.095220</td>\n",
       "      <td>0.040783</td>\n",
       "      <td>0.048734</td>\n",
       "      <td>-0.530987</td>\n",
       "      <td>-0.113057</td>\n",
       "      <td>0.161216</td>\n",
       "    </tr>\n",
       "    <tr>\n",
       "      <th>A2</th>\n",
       "      <td>0.033131</td>\n",
       "      <td>0.235538</td>\n",
       "      <td>0.133714</td>\n",
       "      <td>0.661141</td>\n",
       "      <td>0.063734</td>\n",
       "      <td>-0.006244</td>\n",
       "    </tr>\n",
       "    <tr>\n",
       "      <th>A3</th>\n",
       "      <td>-0.009621</td>\n",
       "      <td>0.343008</td>\n",
       "      <td>0.121353</td>\n",
       "      <td>0.605933</td>\n",
       "      <td>0.033990</td>\n",
       "      <td>0.160106</td>\n",
       "    </tr>\n",
       "    <tr>\n",
       "      <th>A4</th>\n",
       "      <td>-0.081518</td>\n",
       "      <td>0.219717</td>\n",
       "      <td>0.235140</td>\n",
       "      <td>0.404594</td>\n",
       "      <td>-0.125338</td>\n",
       "      <td>0.086356</td>\n",
       "    </tr>\n",
       "    <tr>\n",
       "      <th>A5</th>\n",
       "      <td>-0.149616</td>\n",
       "      <td>0.414458</td>\n",
       "      <td>0.106382</td>\n",
       "      <td>0.469698</td>\n",
       "      <td>0.030977</td>\n",
       "      <td>0.236519</td>\n",
       "    </tr>\n",
       "    <tr>\n",
       "      <th>C1</th>\n",
       "      <td>-0.004358</td>\n",
       "      <td>0.077248</td>\n",
       "      <td>0.554582</td>\n",
       "      <td>0.007511</td>\n",
       "      <td>0.190124</td>\n",
       "      <td>0.095035</td>\n",
       "    </tr>\n",
       "    <tr>\n",
       "      <th>C2</th>\n",
       "      <td>0.068330</td>\n",
       "      <td>0.038370</td>\n",
       "      <td>0.674545</td>\n",
       "      <td>0.057055</td>\n",
       "      <td>0.087593</td>\n",
       "      <td>0.152775</td>\n",
       "    </tr>\n",
       "    <tr>\n",
       "      <th>C3</th>\n",
       "      <td>-0.039994</td>\n",
       "      <td>0.031867</td>\n",
       "      <td>0.551164</td>\n",
       "      <td>0.101282</td>\n",
       "      <td>-0.011338</td>\n",
       "      <td>0.008996</td>\n",
       "    </tr>\n",
       "    <tr>\n",
       "      <th>C4</th>\n",
       "      <td>0.216283</td>\n",
       "      <td>-0.066241</td>\n",
       "      <td>-0.638475</td>\n",
       "      <td>-0.102617</td>\n",
       "      <td>-0.143846</td>\n",
       "      <td>0.318359</td>\n",
       "    </tr>\n",
       "    <tr>\n",
       "      <th>C5</th>\n",
       "      <td>0.284187</td>\n",
       "      <td>-0.180812</td>\n",
       "      <td>-0.544838</td>\n",
       "      <td>-0.059955</td>\n",
       "      <td>0.025837</td>\n",
       "      <td>0.132423</td>\n",
       "    </tr>\n",
       "    <tr>\n",
       "      <th>E1</th>\n",
       "      <td>0.022280</td>\n",
       "      <td>-0.590451</td>\n",
       "      <td>0.053915</td>\n",
       "      <td>-0.130851</td>\n",
       "      <td>-0.071205</td>\n",
       "      <td>0.156583</td>\n",
       "    </tr>\n",
       "    <tr>\n",
       "      <th>E2</th>\n",
       "      <td>0.233624</td>\n",
       "      <td>-0.684578</td>\n",
       "      <td>-0.088497</td>\n",
       "      <td>-0.116716</td>\n",
       "      <td>-0.045561</td>\n",
       "      <td>0.115065</td>\n",
       "    </tr>\n",
       "    <tr>\n",
       "      <th>E3</th>\n",
       "      <td>-0.000895</td>\n",
       "      <td>0.556774</td>\n",
       "      <td>0.103390</td>\n",
       "      <td>0.179396</td>\n",
       "      <td>0.241180</td>\n",
       "      <td>0.267291</td>\n",
       "    </tr>\n",
       "    <tr>\n",
       "      <th>E4</th>\n",
       "      <td>-0.136788</td>\n",
       "      <td>0.658395</td>\n",
       "      <td>0.113798</td>\n",
       "      <td>0.241143</td>\n",
       "      <td>-0.107808</td>\n",
       "      <td>0.158513</td>\n",
       "    </tr>\n",
       "    <tr>\n",
       "      <th>E5</th>\n",
       "      <td>0.034490</td>\n",
       "      <td>0.507535</td>\n",
       "      <td>0.309813</td>\n",
       "      <td>0.078804</td>\n",
       "      <td>0.200821</td>\n",
       "      <td>0.008747</td>\n",
       "    </tr>\n",
       "    <tr>\n",
       "      <th>N1</th>\n",
       "      <td>0.805806</td>\n",
       "      <td>0.068011</td>\n",
       "      <td>-0.051264</td>\n",
       "      <td>-0.174849</td>\n",
       "      <td>-0.074977</td>\n",
       "      <td>-0.096266</td>\n",
       "    </tr>\n",
       "    <tr>\n",
       "      <th>N2</th>\n",
       "      <td>0.789832</td>\n",
       "      <td>0.022958</td>\n",
       "      <td>-0.037477</td>\n",
       "      <td>-0.141134</td>\n",
       "      <td>0.006726</td>\n",
       "      <td>-0.139823</td>\n",
       "    </tr>\n",
       "    <tr>\n",
       "      <th>N3</th>\n",
       "      <td>0.725081</td>\n",
       "      <td>-0.065687</td>\n",
       "      <td>-0.059039</td>\n",
       "      <td>-0.019184</td>\n",
       "      <td>-0.010664</td>\n",
       "      <td>0.062495</td>\n",
       "    </tr>\n",
       "    <tr>\n",
       "      <th>N4</th>\n",
       "      <td>0.578319</td>\n",
       "      <td>-0.345072</td>\n",
       "      <td>-0.162174</td>\n",
       "      <td>0.000403</td>\n",
       "      <td>0.062916</td>\n",
       "      <td>0.147551</td>\n",
       "    </tr>\n",
       "    <tr>\n",
       "      <th>N5</th>\n",
       "      <td>0.523097</td>\n",
       "      <td>-0.161675</td>\n",
       "      <td>-0.025305</td>\n",
       "      <td>0.090125</td>\n",
       "      <td>-0.161892</td>\n",
       "      <td>0.120049</td>\n",
       "    </tr>\n",
       "    <tr>\n",
       "      <th>O1</th>\n",
       "      <td>-0.020004</td>\n",
       "      <td>0.225339</td>\n",
       "      <td>0.133201</td>\n",
       "      <td>0.005178</td>\n",
       "      <td>0.479477</td>\n",
       "      <td>0.218690</td>\n",
       "    </tr>\n",
       "    <tr>\n",
       "      <th>O2</th>\n",
       "      <td>0.156230</td>\n",
       "      <td>-0.001982</td>\n",
       "      <td>-0.086047</td>\n",
       "      <td>0.043989</td>\n",
       "      <td>-0.496640</td>\n",
       "      <td>0.134693</td>\n",
       "    </tr>\n",
       "    <tr>\n",
       "      <th>O3</th>\n",
       "      <td>0.011851</td>\n",
       "      <td>0.325954</td>\n",
       "      <td>0.093880</td>\n",
       "      <td>0.076642</td>\n",
       "      <td>0.566128</td>\n",
       "      <td>0.210777</td>\n",
       "    </tr>\n",
       "    <tr>\n",
       "      <th>O4</th>\n",
       "      <td>0.207281</td>\n",
       "      <td>-0.177746</td>\n",
       "      <td>-0.005671</td>\n",
       "      <td>0.133656</td>\n",
       "      <td>0.349227</td>\n",
       "      <td>0.178068</td>\n",
       "    </tr>\n",
       "    <tr>\n",
       "      <th>O5</th>\n",
       "      <td>0.063234</td>\n",
       "      <td>-0.014221</td>\n",
       "      <td>-0.047059</td>\n",
       "      <td>-0.057561</td>\n",
       "      <td>-0.576743</td>\n",
       "      <td>0.135936</td>\n",
       "    </tr>\n",
       "  </tbody>\n",
       "</table>\n",
       "</div>"
      ],
      "text/plain": [
       "           1         2         3         4         5         6\n",
       "A1  0.095220  0.040783  0.048734 -0.530987 -0.113057  0.161216\n",
       "A2  0.033131  0.235538  0.133714  0.661141  0.063734 -0.006244\n",
       "A3 -0.009621  0.343008  0.121353  0.605933  0.033990  0.160106\n",
       "A4 -0.081518  0.219717  0.235140  0.404594 -0.125338  0.086356\n",
       "A5 -0.149616  0.414458  0.106382  0.469698  0.030977  0.236519\n",
       "C1 -0.004358  0.077248  0.554582  0.007511  0.190124  0.095035\n",
       "C2  0.068330  0.038370  0.674545  0.057055  0.087593  0.152775\n",
       "C3 -0.039994  0.031867  0.551164  0.101282 -0.011338  0.008996\n",
       "C4  0.216283 -0.066241 -0.638475 -0.102617 -0.143846  0.318359\n",
       "C5  0.284187 -0.180812 -0.544838 -0.059955  0.025837  0.132423\n",
       "E1  0.022280 -0.590451  0.053915 -0.130851 -0.071205  0.156583\n",
       "E2  0.233624 -0.684578 -0.088497 -0.116716 -0.045561  0.115065\n",
       "E3 -0.000895  0.556774  0.103390  0.179396  0.241180  0.267291\n",
       "E4 -0.136788  0.658395  0.113798  0.241143 -0.107808  0.158513\n",
       "E5  0.034490  0.507535  0.309813  0.078804  0.200821  0.008747\n",
       "N1  0.805806  0.068011 -0.051264 -0.174849 -0.074977 -0.096266\n",
       "N2  0.789832  0.022958 -0.037477 -0.141134  0.006726 -0.139823\n",
       "N3  0.725081 -0.065687 -0.059039 -0.019184 -0.010664  0.062495\n",
       "N4  0.578319 -0.345072 -0.162174  0.000403  0.062916  0.147551\n",
       "N5  0.523097 -0.161675 -0.025305  0.090125 -0.161892  0.120049\n",
       "O1 -0.020004  0.225339  0.133201  0.005178  0.479477  0.218690\n",
       "O2  0.156230 -0.001982 -0.086047  0.043989 -0.496640  0.134693\n",
       "O3  0.011851  0.325954  0.093880  0.076642  0.566128  0.210777\n",
       "O4  0.207281 -0.177746 -0.005671  0.133656  0.349227  0.178068\n",
       "O5  0.063234 -0.014221 -0.047059 -0.057561 -0.576743  0.135936"
      ]
     },
     "execution_count": 103,
     "metadata": {},
     "output_type": "execute_result"
    }
   ],
   "source": [
    "ind=data.columns\n",
    "df=pd.DataFrame(fa.loadings_,columns=range(1,7),index=ind)\n",
    "df"
   ]
  },
  {
   "cell_type": "code",
   "execution_count": 104,
   "metadata": {},
   "outputs": [
    {
     "data": {
      "text/plain": [
       "(array([2.7269887 , 2.60223901, 2.07347064, 1.7134991 , 1.50483136,\n",
       "        0.63029714]),\n",
       " array([0.10907955, 0.10408956, 0.08293883, 0.06853996, 0.06019325,\n",
       "        0.02521189]),\n",
       " array([0.10907955, 0.21316911, 0.29610793, 0.3646479 , 0.42484115,\n",
       "        0.45005304]))"
      ]
     },
     "execution_count": 104,
     "metadata": {},
     "output_type": "execute_result"
    }
   ],
   "source": [
    "fa.get_factor_variance()"
   ]
  },
  {
   "cell_type": "code",
   "execution_count": 105,
   "metadata": {},
   "outputs": [
    {
     "data": {
      "text/plain": [
       "array([0.3338253 , 0.51566376, 0.52641764, 0.29707441, 0.48299468,\n",
       "       0.35878279, 0.49542081, 0.31686483, 0.59139172, 0.43210146,\n",
       "       0.39874554, 0.55999664, 0.48248334, 0.56004368, 0.40138104,\n",
       "       0.70203777, 0.66528024, 0.5379306 , 0.50555798, 0.3491531 ,\n",
       "       0.34667054, 0.29854404, 0.4860021 , 0.24612269, 0.36083927])"
      ]
     },
     "execution_count": 105,
     "metadata": {},
     "output_type": "execute_result"
    }
   ],
   "source": [
    "fa.get_communalities()"
   ]
  },
  {
   "cell_type": "markdown",
   "metadata": {},
   "source": [
    "# Select more suitable factors"
   ]
  },
  {
   "cell_type": "code",
   "execution_count": 110,
   "metadata": {},
   "outputs": [
    {
     "data": {
      "text/plain": [
       "FactorAnalyzer(n_factors=5, rotation='varimax', rotation_kwargs={})"
      ]
     },
     "execution_count": 110,
     "metadata": {},
     "output_type": "execute_result"
    }
   ],
   "source": [
    "fa = FactorAnalyzer(n_factors=5,rotation=\"varimax\")\n",
    "fa.fit(data)"
   ]
  },
  {
   "cell_type": "code",
   "execution_count": 111,
   "metadata": {},
   "outputs": [
    {
     "data": {
      "text/plain": [
       "array([[-0.43983041,  0.10389656, -1.21671279, -0.69621532, -1.51944901],\n",
       "       [ 0.08436922,  0.55931085, -0.60152093, -0.18934142, -0.24838425],\n",
       "       [ 0.5205342 ,  0.3182346 ,  0.02564572, -0.75113555,  0.20450298],\n",
       "       ...,\n",
       "       [-0.22326681,  0.72116924,  0.78710982, -1.05847977,  0.92510304],\n",
       "       [ 0.9205205 ,  0.7493374 ,  0.07095309, -2.13514505,  0.67346016],\n",
       "       [-1.68998315, -1.35240274, -0.0814335 , -1.85488923, -0.16387988]])"
      ]
     },
     "execution_count": 111,
     "metadata": {},
     "output_type": "execute_result"
    }
   ],
   "source": [
    "x_latent=fa.fit_transform(data)\n",
    "x_latent"
   ]
  },
  {
   "cell_type": "code",
   "execution_count": 112,
   "metadata": {},
   "outputs": [
    {
     "data": {
      "text/html": [
       "<div>\n",
       "<style scoped>\n",
       "    .dataframe tbody tr th:only-of-type {\n",
       "        vertical-align: middle;\n",
       "    }\n",
       "\n",
       "    .dataframe tbody tr th {\n",
       "        vertical-align: top;\n",
       "    }\n",
       "\n",
       "    .dataframe thead th {\n",
       "        text-align: right;\n",
       "    }\n",
       "</style>\n",
       "<table border=\"1\" class=\"dataframe\">\n",
       "  <thead>\n",
       "    <tr style=\"text-align: right;\">\n",
       "      <th></th>\n",
       "      <th>1</th>\n",
       "      <th>2</th>\n",
       "      <th>3</th>\n",
       "      <th>4</th>\n",
       "      <th>5</th>\n",
       "    </tr>\n",
       "  </thead>\n",
       "  <tbody>\n",
       "    <tr>\n",
       "      <th>A1</th>\n",
       "      <td>0.111126</td>\n",
       "      <td>0.040465</td>\n",
       "      <td>0.022798</td>\n",
       "      <td>-0.428166</td>\n",
       "      <td>-0.077931</td>\n",
       "    </tr>\n",
       "    <tr>\n",
       "      <th>A2</th>\n",
       "      <td>0.029588</td>\n",
       "      <td>0.213716</td>\n",
       "      <td>0.139037</td>\n",
       "      <td>0.626946</td>\n",
       "      <td>0.062139</td>\n",
       "    </tr>\n",
       "    <tr>\n",
       "      <th>A3</th>\n",
       "      <td>0.009357</td>\n",
       "      <td>0.317848</td>\n",
       "      <td>0.109331</td>\n",
       "      <td>0.650743</td>\n",
       "      <td>0.056196</td>\n",
       "    </tr>\n",
       "    <tr>\n",
       "      <th>A4</th>\n",
       "      <td>-0.066476</td>\n",
       "      <td>0.204566</td>\n",
       "      <td>0.230584</td>\n",
       "      <td>0.435624</td>\n",
       "      <td>-0.112700</td>\n",
       "    </tr>\n",
       "    <tr>\n",
       "      <th>A5</th>\n",
       "      <td>-0.122113</td>\n",
       "      <td>0.393034</td>\n",
       "      <td>0.087869</td>\n",
       "      <td>0.537087</td>\n",
       "      <td>0.066708</td>\n",
       "    </tr>\n",
       "    <tr>\n",
       "      <th>C1</th>\n",
       "      <td>0.010416</td>\n",
       "      <td>0.070184</td>\n",
       "      <td>0.545824</td>\n",
       "      <td>0.038878</td>\n",
       "      <td>0.209584</td>\n",
       "    </tr>\n",
       "    <tr>\n",
       "      <th>C2</th>\n",
       "      <td>0.089574</td>\n",
       "      <td>0.033270</td>\n",
       "      <td>0.648731</td>\n",
       "      <td>0.102782</td>\n",
       "      <td>0.115434</td>\n",
       "    </tr>\n",
       "    <tr>\n",
       "      <th>C3</th>\n",
       "      <td>-0.030855</td>\n",
       "      <td>0.023907</td>\n",
       "      <td>0.557036</td>\n",
       "      <td>0.111578</td>\n",
       "      <td>-0.005183</td>\n",
       "    </tr>\n",
       "    <tr>\n",
       "      <th>C4</th>\n",
       "      <td>0.240410</td>\n",
       "      <td>-0.064984</td>\n",
       "      <td>-0.633806</td>\n",
       "      <td>-0.037498</td>\n",
       "      <td>-0.107535</td>\n",
       "    </tr>\n",
       "    <tr>\n",
       "      <th>C5</th>\n",
       "      <td>0.290318</td>\n",
       "      <td>-0.176395</td>\n",
       "      <td>-0.562467</td>\n",
       "      <td>-0.047525</td>\n",
       "      <td>0.036822</td>\n",
       "    </tr>\n",
       "    <tr>\n",
       "      <th>E1</th>\n",
       "      <td>0.042819</td>\n",
       "      <td>-0.574835</td>\n",
       "      <td>0.033144</td>\n",
       "      <td>-0.104813</td>\n",
       "      <td>-0.058795</td>\n",
       "    </tr>\n",
       "    <tr>\n",
       "      <th>E2</th>\n",
       "      <td>0.244743</td>\n",
       "      <td>-0.678731</td>\n",
       "      <td>-0.102483</td>\n",
       "      <td>-0.112517</td>\n",
       "      <td>-0.042010</td>\n",
       "    </tr>\n",
       "    <tr>\n",
       "      <th>E3</th>\n",
       "      <td>0.024180</td>\n",
       "      <td>0.536816</td>\n",
       "      <td>0.083010</td>\n",
       "      <td>0.257906</td>\n",
       "      <td>0.280877</td>\n",
       "    </tr>\n",
       "    <tr>\n",
       "      <th>E4</th>\n",
       "      <td>-0.115614</td>\n",
       "      <td>0.646833</td>\n",
       "      <td>0.102023</td>\n",
       "      <td>0.306101</td>\n",
       "      <td>-0.073422</td>\n",
       "    </tr>\n",
       "    <tr>\n",
       "      <th>E5</th>\n",
       "      <td>0.036145</td>\n",
       "      <td>0.504069</td>\n",
       "      <td>0.312899</td>\n",
       "      <td>0.090354</td>\n",
       "      <td>0.213739</td>\n",
       "    </tr>\n",
       "    <tr>\n",
       "      <th>N1</th>\n",
       "      <td>0.786807</td>\n",
       "      <td>0.078923</td>\n",
       "      <td>-0.045997</td>\n",
       "      <td>-0.216363</td>\n",
       "      <td>-0.084704</td>\n",
       "    </tr>\n",
       "    <tr>\n",
       "      <th>N2</th>\n",
       "      <td>0.754109</td>\n",
       "      <td>0.027301</td>\n",
       "      <td>-0.030568</td>\n",
       "      <td>-0.193744</td>\n",
       "      <td>-0.010304</td>\n",
       "    </tr>\n",
       "    <tr>\n",
       "      <th>N3</th>\n",
       "      <td>0.731721</td>\n",
       "      <td>-0.061430</td>\n",
       "      <td>-0.067084</td>\n",
       "      <td>-0.027712</td>\n",
       "      <td>-0.004217</td>\n",
       "    </tr>\n",
       "    <tr>\n",
       "      <th>N4</th>\n",
       "      <td>0.590602</td>\n",
       "      <td>-0.345388</td>\n",
       "      <td>-0.178902</td>\n",
       "      <td>0.005886</td>\n",
       "      <td>0.075225</td>\n",
       "    </tr>\n",
       "    <tr>\n",
       "      <th>N5</th>\n",
       "      <td>0.537858</td>\n",
       "      <td>-0.161291</td>\n",
       "      <td>-0.037309</td>\n",
       "      <td>0.100931</td>\n",
       "      <td>-0.149769</td>\n",
       "    </tr>\n",
       "    <tr>\n",
       "      <th>O1</th>\n",
       "      <td>-0.002224</td>\n",
       "      <td>0.213005</td>\n",
       "      <td>0.115080</td>\n",
       "      <td>0.061550</td>\n",
       "      <td>0.504907</td>\n",
       "    </tr>\n",
       "    <tr>\n",
       "      <th>O2</th>\n",
       "      <td>0.175788</td>\n",
       "      <td>0.004560</td>\n",
       "      <td>-0.099729</td>\n",
       "      <td>0.081809</td>\n",
       "      <td>-0.468925</td>\n",
       "    </tr>\n",
       "    <tr>\n",
       "      <th>O3</th>\n",
       "      <td>0.026736</td>\n",
       "      <td>0.310956</td>\n",
       "      <td>0.076873</td>\n",
       "      <td>0.126889</td>\n",
       "      <td>0.596007</td>\n",
       "    </tr>\n",
       "    <tr>\n",
       "      <th>O4</th>\n",
       "      <td>0.220582</td>\n",
       "      <td>-0.191196</td>\n",
       "      <td>-0.021906</td>\n",
       "      <td>0.155475</td>\n",
       "      <td>0.369012</td>\n",
       "    </tr>\n",
       "    <tr>\n",
       "      <th>O5</th>\n",
       "      <td>0.085401</td>\n",
       "      <td>-0.005347</td>\n",
       "      <td>-0.062730</td>\n",
       "      <td>-0.010384</td>\n",
       "      <td>-0.533778</td>\n",
       "    </tr>\n",
       "  </tbody>\n",
       "</table>\n",
       "</div>"
      ],
      "text/plain": [
       "           1         2         3         4         5\n",
       "A1  0.111126  0.040465  0.022798 -0.428166 -0.077931\n",
       "A2  0.029588  0.213716  0.139037  0.626946  0.062139\n",
       "A3  0.009357  0.317848  0.109331  0.650743  0.056196\n",
       "A4 -0.066476  0.204566  0.230584  0.435624 -0.112700\n",
       "A5 -0.122113  0.393034  0.087869  0.537087  0.066708\n",
       "C1  0.010416  0.070184  0.545824  0.038878  0.209584\n",
       "C2  0.089574  0.033270  0.648731  0.102782  0.115434\n",
       "C3 -0.030855  0.023907  0.557036  0.111578 -0.005183\n",
       "C4  0.240410 -0.064984 -0.633806 -0.037498 -0.107535\n",
       "C5  0.290318 -0.176395 -0.562467 -0.047525  0.036822\n",
       "E1  0.042819 -0.574835  0.033144 -0.104813 -0.058795\n",
       "E2  0.244743 -0.678731 -0.102483 -0.112517 -0.042010\n",
       "E3  0.024180  0.536816  0.083010  0.257906  0.280877\n",
       "E4 -0.115614  0.646833  0.102023  0.306101 -0.073422\n",
       "E5  0.036145  0.504069  0.312899  0.090354  0.213739\n",
       "N1  0.786807  0.078923 -0.045997 -0.216363 -0.084704\n",
       "N2  0.754109  0.027301 -0.030568 -0.193744 -0.010304\n",
       "N3  0.731721 -0.061430 -0.067084 -0.027712 -0.004217\n",
       "N4  0.590602 -0.345388 -0.178902  0.005886  0.075225\n",
       "N5  0.537858 -0.161291 -0.037309  0.100931 -0.149769\n",
       "O1 -0.002224  0.213005  0.115080  0.061550  0.504907\n",
       "O2  0.175788  0.004560 -0.099729  0.081809 -0.468925\n",
       "O3  0.026736  0.310956  0.076873  0.126889  0.596007\n",
       "O4  0.220582 -0.191196 -0.021906  0.155475  0.369012\n",
       "O5  0.085401 -0.005347 -0.062730 -0.010384 -0.533778"
      ]
     },
     "execution_count": 112,
     "metadata": {},
     "output_type": "execute_result"
    }
   ],
   "source": [
    "ind=data.columns\n",
    "df=pd.DataFrame(fa.loadings_,columns=range(1,6),index=ind)\n",
    "df"
   ]
  },
  {
   "cell_type": "code",
   "execution_count": null,
   "metadata": {},
   "outputs": [],
   "source": []
  }
 ],
 "metadata": {
  "kernelspec": {
   "display_name": "Python 3",
   "language": "python",
   "name": "python3"
  },
  "language_info": {
   "codemirror_mode": {
    "name": "ipython",
    "version": 3
   },
   "file_extension": ".py",
   "mimetype": "text/x-python",
   "name": "python",
   "nbconvert_exporter": "python",
   "pygments_lexer": "ipython3",
   "version": "3.8.3"
  }
 },
 "nbformat": 4,
 "nbformat_minor": 4
}
