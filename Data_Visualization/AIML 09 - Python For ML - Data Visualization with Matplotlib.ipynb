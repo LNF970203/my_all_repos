{
 "cells": [
  {
   "cell_type": "markdown",
   "metadata": {},
   "source": [
    "# Importing matplotlib.pyplot"
   ]
  },
  {
   "cell_type": "code",
   "execution_count": null,
   "metadata": {},
   "outputs": [],
   "source": [
    "import matplotlib.pyplot as plt\n",
    "import numpy as np #Importing numpy for future usage\n",
    "import pandas as pd #Importing pandas for future usage"
   ]
  },
  {
   "cell_type": "markdown",
   "metadata": {},
   "source": [
    "# A simple line chart"
   ]
  },
  {
   "cell_type": "code",
   "execution_count": null,
   "metadata": {},
   "outputs": [],
   "source": [
    "L1=[1,2,3,4]\n",
    "L2=[10,25,32,58]\n",
    "plt.plot(L1,L2)\n",
    "plt.show()"
   ]
  },
  {
   "cell_type": "markdown",
   "metadata": {},
   "source": [
    "# Adding a title and axis names"
   ]
  },
  {
   "cell_type": "code",
   "execution_count": null,
   "metadata": {},
   "outputs": [],
   "source": [
    "L1=[1,2,3,4]\n",
    "L2=[10,25,32,58]\n",
    "plt.plot(L1,L2)\n",
    "plt.title(\"A Simple Line Plot\")\n",
    "plt.xlabel(\"L1\")\n",
    "plt.ylabel(\"L2\")\n",
    "plt.show()"
   ]
  },
  {
   "cell_type": "markdown",
   "metadata": {},
   "source": [
    "# Changing the figure size"
   ]
  },
  {
   "cell_type": "code",
   "execution_count": null,
   "metadata": {},
   "outputs": [],
   "source": [
    "L1=[1,2,3,4]\n",
    "L2=[10,25,32,58]\n",
    "plt.figure(figsize=(8,7))\n",
    "plt.plot(L1,L2)\n",
    "plt.title(\"A Simple Line Plot\")\n",
    "plt.xlabel(\"L1\")\n",
    "plt.ylabel(\"L2\")\n",
    "plt.show()"
   ]
  },
  {
   "cell_type": "markdown",
   "metadata": {},
   "source": [
    "# Changing the colour and type of the chart"
   ]
  },
  {
   "cell_type": "code",
   "execution_count": null,
   "metadata": {},
   "outputs": [],
   "source": [
    "L1=[1,2,3,4]\n",
    "L2=[10,25,32,58]\n",
    "plt.plot(L1,L2,\"go\")\n",
    "plt.title(\"A Simple Line Plot\")\n",
    "plt.xlabel(\"L1\")\n",
    "plt.ylabel(\"L2\")\n",
    "plt.show()"
   ]
  },
  {
   "cell_type": "code",
   "execution_count": null,
   "metadata": {},
   "outputs": [],
   "source": [
    "L1=[1,2,3,4]\n",
    "L2=[10,25,32,58]\n",
    "plt.plot(L1,L2,\"r+\")\n",
    "plt.title(\"A Simple Line Plot\")\n",
    "plt.xlabel(\"L1\")\n",
    "plt.ylabel(\"L2\")\n",
    "plt.show()"
   ]
  },
  {
   "cell_type": "code",
   "execution_count": null,
   "metadata": {},
   "outputs": [],
   "source": [
    "L1=[1,2,3,4]\n",
    "L2=[10,25,32,58]\n",
    "plt.plot(L1,L2,\"b*\")\n",
    "plt.title(\"A Simple Line Plot\")\n",
    "plt.xlabel(\"L1\")\n",
    "plt.ylabel(\"L2\")\n",
    "plt.show()"
   ]
  },
  {
   "cell_type": "markdown",
   "metadata": {},
   "source": [
    "# Plotting multiple charts together"
   ]
  },
  {
   "cell_type": "code",
   "execution_count": null,
   "metadata": {},
   "outputs": [],
   "source": [
    "x=np.arange(10)\n",
    "y1=x+5\n",
    "y2=x**2\n",
    "plt.plot(x,y1,\"b*\",x,y2,\"go\")\n",
    "plt.title(\"Two plots together\")\n",
    "plt.xlabel(\"X\")\n",
    "plt.ylabel(\"Y\")\n",
    "plt.show()"
   ]
  },
  {
   "cell_type": "code",
   "execution_count": null,
   "metadata": {},
   "outputs": [],
   "source": [
    "x=np.arange(10)\n",
    "y1=x+5\n",
    "y2=x**2\n",
    "plt.plot(x,y1,\"b*\",y2,\"go\")\n",
    "plt.title(\"Two plots together\")\n",
    "plt.xlabel(\"X\")\n",
    "plt.ylabel(\"Y\")\n",
    "plt.show()"
   ]
  },
  {
   "cell_type": "markdown",
   "metadata": {},
   "source": [
    "# Subplots in the same figure"
   ]
  },
  {
   "cell_type": "markdown",
   "metadata": {},
   "source": [
    "# First method"
   ]
  },
  {
   "cell_type": "code",
   "execution_count": null,
   "metadata": {},
   "outputs": [],
   "source": [
    "x=np.arange(10)\n",
    "y1=x+5\n",
    "y2=x**2\n",
    "plt.figure(figsize=(10,5))\n",
    "\n",
    "#Plots are created with a single row and two columns\n",
    "plt.subplot(1,2,1)\n",
    "plt.plot(x,y1,\"b*\")\n",
    "plt.title(\"First chart\")\n",
    "plt.xlabel(\"X\")\n",
    "plt.ylabel(\"Y\")\n",
    "\n",
    "plt.subplot(1,2,2)\n",
    "plt.plot(x,y2,\"go\")\n",
    "plt.title(\"Second chart\")\n",
    "plt.xlabel(\"X\")\n",
    "plt.ylabel(\"Y\")\n",
    "\n",
    "plt.show()"
   ]
  },
  {
   "cell_type": "code",
   "execution_count": null,
   "metadata": {},
   "outputs": [],
   "source": [
    "x=np.arange(10)\n",
    "y1=x+5\n",
    "y2=x**2\n",
    "y3=-x\n",
    "y4=np.sqrt(x)\n",
    "plt.figure(figsize=(15,10))\n",
    "\n",
    "#Plots are created with a two rows and two columns\n",
    "plt.subplot(2,2,1)\n",
    "plt.plot(x,y1,\"b*\")\n",
    "plt.title(\"First chart\")\n",
    "plt.xlabel(\"X\")\n",
    "plt.ylabel(\"Y\")\n",
    "\n",
    "plt.subplot(2,2,2)\n",
    "plt.plot(x,y2,\"go\")\n",
    "plt.title(\"Second chart\")\n",
    "plt.xlabel(\"X\")\n",
    "plt.ylabel(\"Y\")\n",
    "\n",
    "plt.subplot(2,2,3)\n",
    "plt.plot(x,y3,\"r+\")\n",
    "plt.title(\"Third chart\")\n",
    "plt.xlabel(\"X\")\n",
    "plt.ylabel(\"Y\")\n",
    "\n",
    "plt.subplot(2,2,4)\n",
    "plt.plot(x,y4,\"k-\")\n",
    "plt.title(\"Fourth chart\")\n",
    "plt.xlabel(\"X\")\n",
    "plt.ylabel(\"Y\")\n",
    "\n",
    "plt.show()"
   ]
  },
  {
   "cell_type": "markdown",
   "metadata": {},
   "source": [
    "# Second method"
   ]
  },
  {
   "cell_type": "code",
   "execution_count": null,
   "metadata": {},
   "outputs": [],
   "source": [
    "x=np.arange(10)\n",
    "y1=-(x**2)\n",
    "y2=x**3\n",
    "y3=np.exp(x)\n",
    "y4=np.sqrt(x)\n",
    "\n",
    "#Plots are created with a two rows and two columns\n",
    "fig,ax=plt.subplots(nrows=2,ncols=2,figsize=(15,10))\n",
    "\n",
    "ax[0,0].plot(x,y1,\"b*\")\n",
    "ax[0,0].set_title(\"First chart\")\n",
    "ax[0,0].set_xlabel(\"X\")\n",
    "ax[0,0].set_ylabel(\"Y\")\n",
    "\n",
    "ax[0,1].plot(x,y2,\"go\")\n",
    "ax[0,1].set_title(\"Second chart\")\n",
    "ax[0,1].set_xlabel(\"X\")\n",
    "ax[0,1].set_ylabel(\"Y\")\n",
    "\n",
    "ax[1,0].plot(x,y3,\"r+\")\n",
    "ax[1,0].set_title(\"Thrird chart\")\n",
    "ax[1,0].set_xlabel(\"X\")\n",
    "ax[1,0].set_ylabel(\"Y\")\n",
    "\n",
    "ax[1,1].plot(x,y4,\"k-\")\n",
    "ax[1,1].set_title(\"Fourth chart\")\n",
    "ax[1,1].set_xlabel(\"X\")\n",
    "ax[1,1].set_ylabel(\"Y\")\n",
    "\n",
    "\n",
    "plt.show()"
   ]
  },
  {
   "cell_type": "markdown",
   "metadata": {},
   "source": [
    "# Numerical data"
   ]
  },
  {
   "cell_type": "markdown",
   "metadata": {},
   "source": [
    "Line charts have already been discussed with lists"
   ]
  },
  {
   "cell_type": "markdown",
   "metadata": {},
   "source": [
    "# Line Charts"
   ]
  },
  {
   "cell_type": "code",
   "execution_count": null,
   "metadata": {},
   "outputs": [],
   "source": [
    "df=pd.read_csv(\"D:\\\\Workshops\\\\Python for Data Science Comprehensive Workshop\\\\Part 03 - Data Visualization\\\\Datasets\\\\default.CSV\")\n",
    "df.head()"
   ]
  },
  {
   "cell_type": "code",
   "execution_count": null,
   "metadata": {},
   "outputs": [],
   "source": [
    "plt.plot(range(1,len(df)+1),df[\"Work.Exp\"])\n",
    "plt.title(\"Work Experience with ID\")\n",
    "plt.xlabel(\"ID\")\n",
    "plt.ylabel(\"Work Experience\")\n",
    "plt.show()"
   ]
  },
  {
   "cell_type": "markdown",
   "metadata": {},
   "source": [
    "# Histogram"
   ]
  },
  {
   "cell_type": "code",
   "execution_count": null,
   "metadata": {},
   "outputs": [],
   "source": [
    "data=np.random.random(1000)\n",
    "plt.hist(data,20)\n",
    "plt.title(\"Histogram of random data\")\n",
    "plt.xlabel(\"Random data\")\n",
    "plt.ylabel(\"Frequency\")\n",
    "plt.show()"
   ]
  },
  {
   "cell_type": "code",
   "execution_count": null,
   "metadata": {},
   "outputs": [],
   "source": [
    "data=np.random.randn(1000)\n",
    "plt.hist(data,20)\n",
    "plt.title(\"Histogram of random data\")\n",
    "plt.xlabel(\"Random data\")\n",
    "plt.ylabel(\"Frequency\")\n",
    "plt.show()"
   ]
  },
  {
   "cell_type": "code",
   "execution_count": null,
   "metadata": {},
   "outputs": [],
   "source": [
    "df=pd.read_csv(\"D:\\\\Workshops\\\\Python for Data Science Comprehensive Workshop\\\\Part 03 - Data Visualization\\\\Datasets\\\\default.CSV\")\n",
    "df.head()"
   ]
  },
  {
   "cell_type": "code",
   "execution_count": null,
   "metadata": {},
   "outputs": [],
   "source": [
    "plt.hist(df[\"Credit.Score\"],20)\n",
    "plt.title(\"Histogram of Credit Score\")\n",
    "plt.xlabel(\"Credit Score\")\n",
    "plt.ylabel(\"Frequency\")\n",
    "plt.show()"
   ]
  },
  {
   "cell_type": "markdown",
   "metadata": {},
   "source": [
    "# Boxplots"
   ]
  },
  {
   "cell_type": "code",
   "execution_count": null,
   "metadata": {},
   "outputs": [],
   "source": [
    "data=np.random.randn(1000)\n",
    "plt.boxplot(data)\n",
    "plt.title(\"Boxplot of random data\")\n",
    "plt.xlabel(\"Random data\")\n",
    "plt.ylabel(\"Spread\")\n",
    "plt.show()"
   ]
  },
  {
   "cell_type": "code",
   "execution_count": null,
   "metadata": {},
   "outputs": [],
   "source": [
    "df=pd.read_csv(\"D:\\\\Workshops\\\\Python for Data Science Comprehensive Workshop\\\\Part 03 - Data Visualization\\\\Datasets\\\\default.CSV\")\n",
    "df.head()"
   ]
  },
  {
   "cell_type": "code",
   "execution_count": null,
   "metadata": {},
   "outputs": [],
   "source": [
    "plt.boxplot(df[\"Work.Exp\"])\n",
    "plt.title(\"Boxplot of Work Experience\")\n",
    "plt.xlabel(\"Work Experience\")\n",
    "plt.ylabel(\"Spread\")\n",
    "plt.show()"
   ]
  },
  {
   "cell_type": "markdown",
   "metadata": {},
   "source": [
    "# Categorical data"
   ]
  },
  {
   "cell_type": "markdown",
   "metadata": {},
   "source": [
    "# Bar graphs"
   ]
  },
  {
   "cell_type": "code",
   "execution_count": null,
   "metadata": {},
   "outputs": [],
   "source": [
    "Gender=[\"Male\",\"Female\"]\n",
    "Number_Of_Students=[45,75]\n",
    "\n",
    "plt.bar(Gender,Number_Of_Students,color=\"green\")\n",
    "plt.title(\"Number of students with gender\")\n",
    "plt.xlabel(\"Gender\")\n",
    "plt.ylabel(\"Number of students\")\n",
    "plt.show()"
   ]
  },
  {
   "cell_type": "code",
   "execution_count": null,
   "metadata": {},
   "outputs": [],
   "source": [
    "df=pd.read_csv(\"D:\\\\Workshops\\\\Python for Data Science Comprehensive Workshop\\\\Part 03 - Data Visualization\\\\Datasets\\\\default.CSV\")\n",
    "df.head()"
   ]
  },
  {
   "cell_type": "code",
   "execution_count": null,
   "metadata": {},
   "outputs": [],
   "source": [
    "g=df.groupby(\"Gender\")[\"Gender\"].count()\n",
    "df=pd.DataFrame(g)\n",
    "df.columns=[\"Count\"]\n",
    "df.reset_index(inplace=True)\n",
    "df"
   ]
  },
  {
   "cell_type": "code",
   "execution_count": null,
   "metadata": {},
   "outputs": [],
   "source": [
    "g=plt.bar(df[\"Gender\"],df[\"Count\"],color=\"green\")\n",
    "plt.title(\"Count with gender\")\n",
    "plt.xlabel(\"Gender\")\n",
    "plt.ylabel(\"Count\")\n",
    "plt.show()"
   ]
  },
  {
   "cell_type": "markdown",
   "metadata": {},
   "source": [
    "# Different colours for bars"
   ]
  },
  {
   "cell_type": "code",
   "execution_count": null,
   "metadata": {},
   "outputs": [],
   "source": [
    "Gender=[\"Male\",\"Female\"]\n",
    "Number_Of_Students=[45,75]\n",
    "\n",
    "plt.bar(Gender,Number_Of_Students,color=[\"green\",\"red\"])\n",
    "plt.title(\"Number of students with gender\")\n",
    "plt.xlabel(\"Gender\")\n",
    "plt.ylabel(\"Number of students\")\n",
    "plt.show()"
   ]
  },
  {
   "cell_type": "markdown",
   "metadata": {},
   "source": [
    "# Horizontal bar graphs"
   ]
  },
  {
   "cell_type": "code",
   "execution_count": null,
   "metadata": {},
   "outputs": [],
   "source": [
    "Gender=[\"Male\",\"Female\"]\n",
    "Number_Of_Students=[45,75]\n",
    "\n",
    "plt.barh(Gender,Number_Of_Students,color=[\"blue\",\"orange\"])\n",
    "plt.title(\"Number of students with gender\")\n",
    "plt.ylabel(\"Gender\")\n",
    "plt.xlabel(\"Number of students\")\n",
    "plt.show()"
   ]
  },
  {
   "cell_type": "markdown",
   "metadata": {},
   "source": [
    "# Pie charts"
   ]
  },
  {
   "cell_type": "code",
   "execution_count": null,
   "metadata": {},
   "outputs": [],
   "source": [
    "Gender=[\"Male\",\"Female\"]\n",
    "Number_Of_Students=[45,75]\n",
    "\n",
    "plt.pie(Number_Of_Students,labels=Gender)\n",
    "plt.title(\"Number of students with gender\")\n",
    "plt.show()"
   ]
  },
  {
   "cell_type": "markdown",
   "metadata": {},
   "source": [
    "# Pie charts with legends"
   ]
  },
  {
   "cell_type": "code",
   "execution_count": null,
   "metadata": {},
   "outputs": [],
   "source": [
    "Gender=[\"Male\",\"Female\"]\n",
    "Number_Of_Students=[45,75]\n",
    "\n",
    "plt.pie(Number_Of_Students,labels=Gender)\n",
    "plt.legend(title=\"Gender\")\n",
    "plt.axis(\"equal\")\n",
    "plt.title(\"Number of students with gender\")\n",
    "plt.show()"
   ]
  },
  {
   "cell_type": "markdown",
   "metadata": {},
   "source": [
    "# Pie charts with percentages"
   ]
  },
  {
   "cell_type": "code",
   "execution_count": null,
   "metadata": {},
   "outputs": [],
   "source": [
    "Gender=[\"Male\",\"Female\"]\n",
    "Number_Of_Students=[45,75]\n",
    "\n",
    "plt.pie(Number_Of_Students,labels=Gender,autopct=\"%.1f\")\n",
    "plt.legend(title=\"Gender\")\n",
    "plt.axis(\"equal\")\n",
    "plt.title(\"Pie of gender\")\n",
    "plt.show()"
   ]
  },
  {
   "cell_type": "code",
   "execution_count": null,
   "metadata": {},
   "outputs": [],
   "source": [
    "Gender=[\"Male\",\"Female\"]\n",
    "Number_Of_Students=[45,75]\n",
    "\n",
    "plt.pie(Number_Of_Students,labels=Gender,autopct=\"%1.0f%%\") #This gives the percentage symbol\n",
    "plt.legend(title=\"Gender\")\n",
    "plt.axis(\"equal\")\n",
    "plt.title(\"Pie of gender\")\n",
    "plt.show()"
   ]
  },
  {
   "cell_type": "markdown",
   "metadata": {},
   "source": [
    "# Pie charts with explodes"
   ]
  },
  {
   "cell_type": "code",
   "execution_count": null,
   "metadata": {},
   "outputs": [],
   "source": [
    "Gender=[\"Male\",\"Female\"]\n",
    "Number_Of_Students=[45,75]\n",
    "\n",
    "plt.pie(Number_Of_Students,labels=Gender,explode=[0,0.2])\n",
    "plt.legend(title=\"Gender\")\n",
    "plt.axis(\"equal\")\n",
    "plt.title(\"Number of students with gender\")\n",
    "plt.show()"
   ]
  },
  {
   "cell_type": "code",
   "execution_count": null,
   "metadata": {},
   "outputs": [],
   "source": [
    "Name=[\"John\",\"Kane\",\"Anne\",\"Jane\"]\n",
    "Company_share=[20,15,35,30]\n",
    "\n",
    "plt.figure(figsize=(8,8))\n",
    "plt.pie(Company_share,labels=Name,explode=[0,0.1,0,0])\n",
    "plt.axis(\"equal\")\n",
    "plt.legend(title=\"Share Holders\")\n",
    "plt.title(\"Company Shares\")\n",
    "plt.show()"
   ]
  },
  {
   "cell_type": "markdown",
   "metadata": {},
   "source": [
    "# Numerical VS Numerical"
   ]
  },
  {
   "cell_type": "markdown",
   "metadata": {},
   "source": [
    "# Scatter plots"
   ]
  },
  {
   "cell_type": "code",
   "execution_count": null,
   "metadata": {},
   "outputs": [],
   "source": [
    "height=np.random.normal(160,5,100)\n",
    "weight=np.random.normal(55,2,100)\n",
    "\n",
    "plt.scatter(weight,height)\n",
    "plt.xlabel(\"Weight\")\n",
    "plt.ylabel(\"Height\")\n",
    "plt.title(\"Height VS Weight\")\n",
    "plt.show()"
   ]
  },
  {
   "cell_type": "code",
   "execution_count": null,
   "metadata": {},
   "outputs": [],
   "source": [
    "df=pd.read_csv(\"D:\\\\Workshops\\\\Python for Data Science Comprehensive Workshop\\\\Part 03 - Data Visualization\\\\Datasets\\\\default.CSV\")\n",
    "df.head()"
   ]
  },
  {
   "cell_type": "code",
   "execution_count": null,
   "metadata": {},
   "outputs": [],
   "source": [
    "plt.scatter(df[\"Work.Exp\"],df[\"Credit.Score\"])\n",
    "plt.xlabel(\"Work Experience\")\n",
    "plt.ylabel(\"Credit Score\")\n",
    "plt.title(\"Work Experience VS Credit Score\")\n",
    "plt.show()"
   ]
  },
  {
   "cell_type": "markdown",
   "metadata": {},
   "source": [
    "# Scatter plot with displaying the categories in another variable"
   ]
  },
  {
   "cell_type": "code",
   "execution_count": null,
   "metadata": {},
   "outputs": [],
   "source": [
    "cls = np.random.choice(a=[\"a\", \"c\", \"b\"],size=100,p=[0.5, 0.3, 0.2])\n",
    "height=np.random.normal(160,5,100)\n",
    "weight=np.random.normal(55,2,100)\n",
    "col=[\"red\" if i==\"a\" else \"green\" if i==\"b\" else \"blue\" for i in cls]\n",
    "\n",
    "\n",
    "plt.scatter(weight,height,c=col)\n",
    "plt.xlabel(\"Weight\")\n",
    "plt.ylabel(\"Height\")\n",
    "plt.title(\"Height VS Weight\")\n",
    "plt.show()"
   ]
  },
  {
   "cell_type": "markdown",
   "metadata": {},
   "source": [
    "# Numerical VS Categorical data"
   ]
  },
  {
   "cell_type": "markdown",
   "metadata": {},
   "source": [
    "# Side by side boxplots"
   ]
  },
  {
   "cell_type": "code",
   "execution_count": null,
   "metadata": {},
   "outputs": [],
   "source": [
    "cls = np.random.choice(a=[\"a\", \"c\", \"b\"],size=100)\n",
    "height=np.random.normal(160,5,100)\n",
    "\n",
    "df=pd.DataFrame({\"Height\":height,\"Class\":cls})\n",
    "df.head()"
   ]
  },
  {
   "cell_type": "code",
   "execution_count": null,
   "metadata": {},
   "outputs": [],
   "source": [
    "L_new=[list(df[df[\"Class\"]==i][\"Height\"]) for i in [\"a\", \"c\", \"b\"]]"
   ]
  },
  {
   "cell_type": "code",
   "execution_count": null,
   "metadata": {},
   "outputs": [],
   "source": [
    "plt.boxplot(L_new,positions=[0,2,4])\n",
    "plt.xticks([0,2,4],[\"a\",\"b\",\"c\"])\n",
    "plt.show()"
   ]
  },
  {
   "cell_type": "markdown",
   "metadata": {},
   "source": [
    "# Categorical VS Categorical data"
   ]
  },
  {
   "cell_type": "markdown",
   "metadata": {},
   "source": [
    "# Multiple bar graphs"
   ]
  },
  {
   "cell_type": "markdown",
   "metadata": {},
   "source": [
    "# Vertical"
   ]
  },
  {
   "cell_type": "code",
   "execution_count": null,
   "metadata": {},
   "outputs": [],
   "source": [
    "Gender=[\"Male\",\"Female\"]\n",
    "AVG_Maths=[90,85]\n",
    "AVG_English=[70,95]\n",
    "\n",
    "index=np.arange(2)\n",
    "width=0.4\n",
    "\n",
    "plt.figure(figsize=(10,10))\n",
    "plt.bar(index,AVG_Maths,width,color=\"green\",label=\"Maths\")\n",
    "plt.bar(index+width,AVG_English,width,color=\"red\",label=\"English\")\n",
    "\n",
    "plt.title(\"Marks for Mathematics & English with Gender\")\n",
    "plt.xlabel(\"Gender\")\n",
    "plt.ylabel(\"Marks\")\n",
    "plt.legend(loc=\"best\")\n",
    "plt.xticks(index+width/2,Gender)\n",
    "plt.show()"
   ]
  },
  {
   "cell_type": "code",
   "execution_count": null,
   "metadata": {},
   "outputs": [],
   "source": [
    "df=pd.read_csv(\"D:\\\\Workshops\\\\Python for Data Science Comprehensive Workshop\\\\Part 03 - Data Visualization\\\\Datasets\\\\default.CSV\")\n",
    "df.head()"
   ]
  },
  {
   "cell_type": "code",
   "execution_count": null,
   "metadata": {},
   "outputs": [],
   "source": [
    "g=df.groupby(\"Gender\")[[\"Work.Exp\",\"Credit.Score\"]].mean()\n",
    "df=pd.DataFrame(g)\n",
    "df.reset_index(inplace=True)\n",
    "df"
   ]
  },
  {
   "cell_type": "markdown",
   "metadata": {},
   "source": [
    "Now the same approach can be followed"
   ]
  },
  {
   "cell_type": "markdown",
   "metadata": {},
   "source": [
    "# Horizontal"
   ]
  },
  {
   "cell_type": "code",
   "execution_count": null,
   "metadata": {},
   "outputs": [],
   "source": [
    "Gender=[\"Male\",\"Female\"]\n",
    "AVG_Maths=[90,85]\n",
    "AVG_English=[70,95]\n",
    "\n",
    "index=np.arange(2)\n",
    "width=0.4\n",
    "\n",
    "plt.figure(figsize=(10,10))\n",
    "plt.barh(index,AVG_Maths,width,color=\"green\",label=\"Maths\")\n",
    "plt.barh(index+width,AVG_English,width,color=\"red\",label=\"English\")\n",
    "\n",
    "plt.title(\"Marks for Mathematics & English with Gender\")\n",
    "plt.ylabel(\"Gender\")\n",
    "plt.xlabel(\"Marks\")\n",
    "plt.legend(loc=\"best\")\n",
    "plt.yticks(index+width/2,Gender)\n",
    "plt.show()"
   ]
  },
  {
   "cell_type": "markdown",
   "metadata": {},
   "source": [
    "# Stacked bar graphs"
   ]
  },
  {
   "cell_type": "markdown",
   "metadata": {},
   "source": [
    "# Vertical"
   ]
  },
  {
   "cell_type": "code",
   "execution_count": null,
   "metadata": {},
   "outputs": [],
   "source": [
    "Gender=[\"Male\",\"Female\"]\n",
    "AVG_Maths=[90,85]\n",
    "AVG_English=[70,95]\n",
    "\n",
    "index=np.arange(2)\n",
    "width=0.4\n",
    "\n",
    "plt.figure(figsize=(10,10))\n",
    "plt.bar(index,AVG_Maths,width,color=\"green\",label=\"Maths\")\n",
    "plt.bar(index,AVG_English,width,color=\"red\",label=\"English\",bottom=AVG_Maths)\n",
    "\n",
    "plt.title(\"Marks for Mathematics & English with Gender\")\n",
    "plt.xlabel(\"Gender\")\n",
    "plt.ylabel(\"Marks\")\n",
    "plt.legend(loc=\"best\")\n",
    "plt.xticks(index,Gender)\n",
    "plt.show()"
   ]
  },
  {
   "cell_type": "markdown",
   "metadata": {},
   "source": [
    "# Horizontal"
   ]
  },
  {
   "cell_type": "code",
   "execution_count": null,
   "metadata": {},
   "outputs": [],
   "source": [
    "Gender=[\"Male\",\"Female\"]\n",
    "AVG_Maths=[90,85]\n",
    "AVG_English=[70,95]\n",
    "\n",
    "index=np.arange(2)\n",
    "width=0.4\n",
    "\n",
    "plt.figure(figsize=(10,10))\n",
    "plt.barh(index,AVG_Maths,width,color=\"green\",label=\"Maths\")\n",
    "plt.barh(index,AVG_English,width,color=\"red\",label=\"English\",left=AVG_Maths)\n",
    "\n",
    "plt.title(\"Marks for Mathematics & English with Gender\")\n",
    "plt.ylabel(\"Gender\")\n",
    "plt.xlabel(\"Marks\")\n",
    "plt.legend(loc=\"best\")\n",
    "plt.yticks(index,Gender)\n",
    "plt.show()"
   ]
  },
  {
   "cell_type": "markdown",
   "metadata": {},
   "source": [
    "# 100% stacked bar graphs"
   ]
  },
  {
   "cell_type": "markdown",
   "metadata": {},
   "source": [
    "# Vertical"
   ]
  },
  {
   "cell_type": "code",
   "execution_count": null,
   "metadata": {},
   "outputs": [],
   "source": [
    "Gender=[\"Male\",\"Female\"]\n",
    "AVG_Maths=[90,85]\n",
    "AVG_English=[70,95]\n",
    "\n",
    "df=pd.DataFrame({\"Gender\":[\"Male\",\"Female\"],\"AVG_Maths\":[90,85],\"AVG_English\":[70,95]})\n",
    "df_perc=df[[\"AVG_Maths\",\"AVG_English\"]].div(df.sum(axis=1),axis=0)*100\n",
    "df_perc"
   ]
  },
  {
   "cell_type": "code",
   "execution_count": null,
   "metadata": {},
   "outputs": [],
   "source": [
    "AVG_Maths_Per=list(df_perc[\"AVG_Maths\"])\n",
    "AVG_English_Per=list(df_perc[\"AVG_English\"])"
   ]
  },
  {
   "cell_type": "code",
   "execution_count": null,
   "metadata": {},
   "outputs": [],
   "source": [
    "index=np.arange(2)\n",
    "width=0.4\n",
    "\n",
    "plt.figure(figsize=(10,10))\n",
    "plt.bar(index,AVG_Maths_Per,width,color=\"green\",label=\"Maths\")\n",
    "plt.bar(index,AVG_English_Per,width,color=\"red\",label=\"English\",bottom=AVG_Maths_Per)\n",
    "\n",
    "plt.title(\"Marks for Mathematics & English with Gender\")\n",
    "plt.xlabel(\"Gender\")\n",
    "plt.ylabel(\"Marks\")\n",
    "plt.legend(loc=\"best\")\n",
    "plt.xticks(index,Gender)\n",
    "plt.show()"
   ]
  },
  {
   "cell_type": "markdown",
   "metadata": {},
   "source": [
    "# Horizontal"
   ]
  },
  {
   "cell_type": "code",
   "execution_count": null,
   "metadata": {},
   "outputs": [],
   "source": [
    "index=np.arange(2)\n",
    "width=0.4\n",
    "\n",
    "plt.figure(figsize=(10,10))\n",
    "plt.barh(index,AVG_Maths_Per,width,color=\"green\",label=\"Maths\")\n",
    "plt.barh(index,AVG_English_Per,width,color=\"red\",label=\"English\",left=AVG_Maths_Per)\n",
    "\n",
    "plt.title(\"Marks for Mathematics & English with Gender\")\n",
    "plt.ylabel(\"Gender\")\n",
    "plt.xlabel(\"Marks\")\n",
    "plt.legend(loc=\"best\")\n",
    "plt.yticks(index,Gender)\n",
    "plt.show()"
   ]
  },
  {
   "cell_type": "markdown",
   "metadata": {},
   "source": [
    "# Comparing three numerical variables"
   ]
  },
  {
   "cell_type": "markdown",
   "metadata": {},
   "source": [
    "# 3D Scatter plot"
   ]
  },
  {
   "cell_type": "code",
   "execution_count": null,
   "metadata": {},
   "outputs": [],
   "source": [
    "from mpl_toolkits import mplot3d"
   ]
  },
  {
   "cell_type": "code",
   "execution_count": null,
   "metadata": {},
   "outputs": [],
   "source": [
    "height=np.random.normal(160,5,100)\n",
    "weight=np.random.normal(55,2,100)\n",
    "age=np.random.randint(24,45,100)\n",
    "\n",
    "plt.figure(figsize=(10,10))\n",
    "ax=plt.axes(projection=\"3d\")\n",
    "ax.scatter3D(weight,height,age)\n",
    "\n",
    "ax.set_xlabel(\"Weight\")\n",
    "ax.set_ylabel(\"Height\")\n",
    "ax.set_zlabel(\"Age\")\n",
    "\n",
    "plt.title(\"Relationship among Weight, Height & Age\")\n",
    "plt.show()"
   ]
  },
  {
   "cell_type": "markdown",
   "metadata": {},
   "source": [
    "# Bubble plot"
   ]
  },
  {
   "cell_type": "code",
   "execution_count": null,
   "metadata": {},
   "outputs": [],
   "source": [
    "x=[167,174,157,179,153]\n",
    "y=[78,67,59,65,60]\n",
    "z=[50,100,250,670,1200]\n",
    "\n",
    "plt.figure(figsize=(5,5))\n",
    "plt.scatter(height,weight,s=age)\n",
    "plt.xlabel(\"X\")\n",
    "plt.ylabel(\"Y\")\n",
    "plt.title(\"Relationship among X, Y and Z\")\n",
    "plt.show()"
   ]
  },
  {
   "cell_type": "code",
   "execution_count": null,
   "metadata": {},
   "outputs": [],
   "source": []
  }
 ],
 "metadata": {
  "kernelspec": {
   "display_name": "Python 3",
   "language": "python",
   "name": "python3"
  },
  "language_info": {
   "codemirror_mode": {
    "name": "ipython",
    "version": 3
   },
   "file_extension": ".py",
   "mimetype": "text/x-python",
   "name": "python",
   "nbconvert_exporter": "python",
   "pygments_lexer": "ipython3",
   "version": "3.8.3"
  }
 },
 "nbformat": 4,
 "nbformat_minor": 4
}
