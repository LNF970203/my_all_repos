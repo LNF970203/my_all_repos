{
 "cells": [
  {
   "cell_type": "markdown",
   "metadata": {},
   "source": [
    "# Personality System using Machine Learning"
   ]
  },
  {
   "cell_type": "code",
   "execution_count": null,
   "metadata": {},
   "outputs": [],
   "source": [
    "import pandas as pd\n",
    "import numpy as np\n",
    "from sklearn.cluster import KMeans\n",
    "import matplotlib.pyplot as plt"
   ]
  },
  {
   "cell_type": "code",
   "execution_count": null,
   "metadata": {},
   "outputs": [],
   "source": [
    "data=pd.read_csv(\"D:\\Workshops\\Machine Learning for Data Science With Python\\Datasets\\data-final.CSV\")"
   ]
  },
  {
   "cell_type": "code",
   "execution_count": null,
   "metadata": {},
   "outputs": [],
   "source": [
    "data.head()"
   ]
  },
  {
   "cell_type": "code",
   "execution_count": null,
   "metadata": {},
   "outputs": [],
   "source": [
    "x=data.iloc[:,:50]"
   ]
  },
  {
   "cell_type": "code",
   "execution_count": null,
   "metadata": {},
   "outputs": [],
   "source": [
    "x.head()"
   ]
  },
  {
   "cell_type": "code",
   "execution_count": null,
   "metadata": {},
   "outputs": [],
   "source": [
    "x=x.fillna(0)"
   ]
  },
  {
   "cell_type": "code",
   "execution_count": null,
   "metadata": {},
   "outputs": [],
   "source": [
    "x.head()"
   ]
  },
  {
   "cell_type": "markdown",
   "metadata": {},
   "source": [
    "# Clustering"
   ]
  },
  {
   "cell_type": "code",
   "execution_count": null,
   "metadata": {},
   "outputs": [],
   "source": [
    "kmc=KMeans(n_clusters=10)"
   ]
  },
  {
   "cell_type": "code",
   "execution_count": null,
   "metadata": {},
   "outputs": [],
   "source": [
    "kmc.fit(x)"
   ]
  },
  {
   "cell_type": "markdown",
   "metadata": {},
   "source": [
    "# Creating personality scores"
   ]
  },
  {
   "cell_type": "code",
   "execution_count": null,
   "metadata": {},
   "outputs": [],
   "source": [
    "one,two,three,four,five,six,seven,eight,nine,ten=kmc.cluster_centers_"
   ]
  },
  {
   "cell_type": "code",
   "execution_count": null,
   "metadata": {},
   "outputs": [],
   "source": [
    "one"
   ]
  },
  {
   "cell_type": "code",
   "execution_count": null,
   "metadata": {},
   "outputs": [],
   "source": [
    "one_scores={}\n",
    "\n",
    "one_scores[\"Extroversion_Score\"]=one[0]-one[1]+one[2]-one[3]+one[4]-one[5]+one[6]-one[7]+one[8]-one[9]\n",
    "one_scores[\"Neuroticism_Score\"]=one[10]-one[11]+one[12]-one[13]+one[14]+one[15]+one[16]+one[17]+one[18]+one[19]\n",
    "one_scores[\"Agreebleness_Score\"]=-one[20]+one[21]-one[22]+one[23]-one[24]+one[25]-one[26]+one[27]+one[28]+one[29]\n",
    "one_scores[\"Conscientiousness_Score\"]=one[30]-one[31]+one[32]-one[33]+one[34]-one[35]-one[36]-one[37]+one[38]+one[39]\n",
    "one_scores[\"Openness_Score\"]=one[40]-one[41]+one[42]-one[43]+one[44]-one[45]+one[46]-one[47]+one[48]+one[49]"
   ]
  },
  {
   "cell_type": "code",
   "execution_count": null,
   "metadata": {},
   "outputs": [],
   "source": [
    "one_scores"
   ]
  },
  {
   "cell_type": "code",
   "execution_count": null,
   "metadata": {},
   "outputs": [],
   "source": [
    "types={\"One\":one,\"Two\":two,\"Three\":three,\"Four\":four,\"Five\":five,\"Six\":six,\"Seven\":seven,\"Eight\":eight,\"Nine\":nine,\"Ten\":ten}"
   ]
  },
  {
   "cell_type": "code",
   "execution_count": null,
   "metadata": {},
   "outputs": [],
   "source": [
    "type_scores={}\n",
    "\n",
    "for name,personality_type in types.items():\n",
    "    personality_score={}\n",
    "\n",
    "    personality_score[\"Extroversion_Score\"]=personality_type[0]-personality_type[1]+personality_type[2]-personality_type[3]+personality_type[4]-personality_type[5]+personality_type[6]-personality_type[7]+personality_type[8]-personality_type[9]\n",
    "    personality_score[\"Neuroticism_Score\"]=personality_type[10]-personality_type[11]+personality_type[12]-personality_type[13]+personality_type[14]+personality_type[15]+personality_type[16]+personality_type[17]+personality_type[18]+personality_type[19]\n",
    "    personality_score[\"Agreebleness_Score\"]=-personality_type[20]+personality_type[21]-personality_type[22]+personality_type[23]-personality_type[24]+personality_type[25]-personality_type[26]+personality_type[27]+personality_type[28]+personality_type[29]\n",
    "    personality_score[\"Conscientiousness_Score\"]=personality_type[30]-personality_type[31]+personality_type[32]-personality_type[33]+personality_type[34]-personality_type[35]-personality_type[36]-personality_type[37]+personality_type[38]+personality_type[39]\n",
    "    personality_score[\"Openness_Score\"]=personality_type[40]-personality_type[41]+personality_type[42]-personality_type[43]+personality_type[44]-personality_type[45]+personality_type[46]-personality_type[47]+personality_type[48]+personality_type[49]\n",
    "    \n",
    "    type_scores[name]=personality_score"
   ]
  },
  {
   "cell_type": "code",
   "execution_count": null,
   "metadata": {},
   "outputs": [],
   "source": [
    "type_scores"
   ]
  },
  {
   "cell_type": "code",
   "execution_count": null,
   "metadata": {},
   "outputs": [],
   "source": [
    "extro=[]\n",
    "neuroctic=[]\n",
    "aggreable=[]\n",
    "conscient=[]\n",
    "openn=[]\n",
    "\n",
    "for personality_type,personality_score in type_scores.items():\n",
    "    extro.append(personality_score[\"Extroversion_Score\"])\n",
    "    neuroctic.append(personality_score[\"Neuroticism_Score\"])\n",
    "    aggreable.append(personality_score[\"Agreebleness_Score\"])\n",
    "    conscient.append(personality_score[\"Conscientiousness_Score\"])\n",
    "    openn.append(personality_score[\"Openness_Score\"])"
   ]
  },
  {
   "cell_type": "code",
   "execution_count": null,
   "metadata": {},
   "outputs": [],
   "source": [
    "extro"
   ]
  },
  {
   "cell_type": "code",
   "execution_count": null,
   "metadata": {},
   "outputs": [],
   "source": [
    "fun=lambda L:(np.array(L)-np.array(L).min())/(np.array(L).max()-np.array(L).min())"
   ]
  },
  {
   "cell_type": "code",
   "execution_count": null,
   "metadata": {},
   "outputs": [],
   "source": [
    "norm_extro=list(fun(extro))\n",
    "norm_neuroctic=list(fun(neuroctic))\n",
    "norm_aggreable=list(fun(aggreable))\n",
    "norm_conscient=list(fun(conscient))\n",
    "norm_openn=list(fun(openn))"
   ]
  },
  {
   "cell_type": "code",
   "execution_count": null,
   "metadata": {},
   "outputs": [],
   "source": [
    "norm_extro"
   ]
  },
  {
   "cell_type": "code",
   "execution_count": null,
   "metadata": {},
   "outputs": [],
   "source": [
    "idx=0\n",
    "norm_type_scores={}\n",
    "\n",
    "for personality_type,personality_score in type_scores.items():\n",
    "    norm_personality_score={}\n",
    "    \n",
    "    norm_personality_score[\"Extroversion_Score\"]=norm_extro[idx]\n",
    "    norm_personality_score[\"Neuroticism_Score\"]=norm_neuroctic[idx]\n",
    "    norm_personality_score[\"Agreebleness_Score\"]=norm_aggreable[idx]\n",
    "    norm_personality_score[\"Conscientiousness_Score\"]=norm_conscient[idx]\n",
    "    norm_personality_score[\"Openness_Score\"]=norm_openn[idx]\n",
    "    \n",
    "    norm_type_scores[personality_type]=norm_personality_score\n",
    "    idx=idx+1"
   ]
  },
  {
   "cell_type": "code",
   "execution_count": null,
   "metadata": {},
   "outputs": [],
   "source": [
    "norm_type_scores"
   ]
  },
  {
   "cell_type": "markdown",
   "metadata": {},
   "source": [
    "# Visualizing"
   ]
  },
  {
   "cell_type": "code",
   "execution_count": null,
   "metadata": {},
   "outputs": [],
   "source": [
    "plt.figure(figsize=(15,10))\n",
    "plt.bar(list(norm_type_scores[\"One\"].keys()),norm_type_scores[\"One\"].values(),color=[\"green\",\"red\",\"blue\",\"black\",\"orange\"])\n",
    "plt.show()"
   ]
  },
  {
   "cell_type": "code",
   "execution_count": null,
   "metadata": {},
   "outputs": [],
   "source": [
    "plt.figure(figsize=(15,10))\n",
    "plt.bar(list(norm_type_scores[\"Two\"].keys()),norm_type_scores[\"Two\"].values(),color=[\"green\",\"red\",\"blue\",\"black\",\"orange\"])\n",
    "plt.show()"
   ]
  },
  {
   "cell_type": "code",
   "execution_count": null,
   "metadata": {},
   "outputs": [],
   "source": [
    "plt.figure(figsize=(15,10))\n",
    "plt.bar(list(norm_type_scores[\"Three\"].keys()),norm_type_scores[\"Three\"].values(),color=[\"green\",\"red\",\"blue\",\"black\",\"orange\"])\n",
    "plt.show()"
   ]
  },
  {
   "cell_type": "code",
   "execution_count": null,
   "metadata": {},
   "outputs": [],
   "source": [
    "plt.figure(figsize=(15,10))\n",
    "plt.bar(list(norm_type_scores[\"Four\"].keys()),norm_type_scores[\"Four\"].values(),color=[\"green\",\"red\",\"blue\",\"black\",\"orange\"])\n",
    "plt.show()"
   ]
  },
  {
   "cell_type": "code",
   "execution_count": null,
   "metadata": {},
   "outputs": [],
   "source": [
    "plt.figure(figsize=(15,10))\n",
    "plt.bar(list(norm_type_scores[\"Five\"].keys()),norm_type_scores[\"Five\"].values(),color=[\"green\",\"red\",\"blue\",\"black\",\"orange\"])\n",
    "plt.show()"
   ]
  },
  {
   "cell_type": "code",
   "execution_count": null,
   "metadata": {},
   "outputs": [],
   "source": [
    "plt.figure(figsize=(15,10))\n",
    "plt.bar(list(norm_type_scores[\"Six\"].keys()),norm_type_scores[\"Six\"].values(),color=[\"green\",\"red\",\"blue\",\"black\",\"orange\"])\n",
    "plt.show()"
   ]
  },
  {
   "cell_type": "code",
   "execution_count": null,
   "metadata": {},
   "outputs": [],
   "source": [
    "plt.figure(figsize=(15,10))\n",
    "plt.bar(list(norm_type_scores[\"Seven\"].keys()),norm_type_scores[\"Seven\"].values(),color=[\"green\",\"red\",\"blue\",\"black\",\"orange\"])\n",
    "plt.show()"
   ]
  },
  {
   "cell_type": "code",
   "execution_count": null,
   "metadata": {},
   "outputs": [],
   "source": [
    "plt.figure(figsize=(15,10))\n",
    "plt.bar(list(norm_type_scores[\"Eight\"].keys()),norm_type_scores[\"Eight\"].values(),color=[\"green\",\"red\",\"blue\",\"black\",\"orange\"])\n",
    "plt.show()"
   ]
  },
  {
   "cell_type": "code",
   "execution_count": null,
   "metadata": {},
   "outputs": [],
   "source": [
    "plt.figure(figsize=(15,10))\n",
    "plt.bar(list(norm_type_scores[\"Nine\"].keys()),norm_type_scores[\"Nine\"].values(),color=[\"green\",\"red\",\"blue\",\"black\",\"orange\"])\n",
    "plt.show()"
   ]
  },
  {
   "cell_type": "code",
   "execution_count": null,
   "metadata": {},
   "outputs": [],
   "source": [
    "plt.figure(figsize=(15,10))\n",
    "plt.bar(list(norm_type_scores[\"Ten\"].keys()),norm_type_scores[\"Ten\"].values(),color=[\"green\",\"red\",\"blue\",\"black\",\"orange\"])\n",
    "plt.show()"
   ]
  },
  {
   "cell_type": "code",
   "execution_count": null,
   "metadata": {},
   "outputs": [],
   "source": []
  }
 ],
 "metadata": {
  "kernelspec": {
   "display_name": "Python 3",
   "language": "python",
   "name": "python3"
  },
  "language_info": {
   "codemirror_mode": {
    "name": "ipython",
    "version": 3
   },
   "file_extension": ".py",
   "mimetype": "text/x-python",
   "name": "python",
   "nbconvert_exporter": "python",
   "pygments_lexer": "ipython3",
   "version": "3.8.3"
  }
 },
 "nbformat": 4,
 "nbformat_minor": 4
}
